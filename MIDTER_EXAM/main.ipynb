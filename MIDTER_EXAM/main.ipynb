{
 "cells": [
  {
   "cell_type": "markdown",
   "id": "d4e85132-8447-46c9-82f6-895b3ab6de42",
   "metadata": {},
   "source": [
    "# Midterm (3rd Year IT): Coding + LLM Critique "
   ]
  },
  {
   "cell_type": "markdown",
   "id": "86a4df24-0d3c-472d-8944-408212d790aa",
   "metadata": {},
   "source": [
    "# Sarmiento, Kathleen Cheryl D."
   ]
  },
  {
   "cell_type": "markdown",
   "id": "d86fd669-0e9c-4e25-920b-f07a29313e93",
   "metadata": {},
   "source": [
    "# QUESTION 1"
   ]
  },
  {
   "cell_type": "markdown",
   "id": "541e42e1-0400-41b9-8fd0-7284d9fc4daf",
   "metadata": {},
   "source": [
    "# String Normalizer & Finder. \n",
    "Write a function normalize_and_find(text:\n",
    "str, needle: str) -> int that: (1) trims whitespace on both ends, (2) converts to lowercase, then (3) returns the index of the first occurrence of needle using\n",
    "a safe search (return −1 if not found). Discuss alternatives (find vs. index), and\n",
    "how your choice affects error handling. Anchor concepts: stripping, case conversion,\n",
    "find/replace, string immutability. Reference: :contentReference[oaicite:6]index=6"
   ]
  },
  {
   "cell_type": "markdown",
   "id": "75826f7a-4cd9-4ddc-aad8-417d77b4425a",
   "metadata": {},
   "source": [
    "# PROMPT \n",
    "Write a Python function normalize_and_find(text: str, needle: str) -> int that trims whitespace, lowercases the text, and returns the first index of needle. Return -1 if not found."
   ]
  },
  {
   "cell_type": "markdown",
   "id": "bb1194b2-06bf-4c5e-b829-4a535195ddd2",
   "metadata": {},
   "source": [
    "# ChatGpt Code:"
   ]
  },
  {
   "cell_type": "code",
   "execution_count": 2,
   "id": "d0f70ebb-f311-4062-8696-344dca02f3fc",
   "metadata": {},
   "outputs": [],
   "source": [
    "def normalize_and_find(text: str, needle: str) -> int:\n",
    "    text = text.strip().lower()\n",
    "    needle = needle.lower()\n",
    "    return text.find(needle)\n"
   ]
  },
  {
   "cell_type": "markdown",
   "id": "ce51ccd7-deb9-4909-847c-4ac45bc4db68",
   "metadata": {},
   "source": [
    "# Critique:\n",
    "-Correctness: Works correctly and returns -1 when not found.\n",
    "\n",
    "-Complexity: O(n) time, O(1) extra space.\n",
    "\n",
    "-Robustness: Lacks type checks for non-string inputs.\n",
    "\n",
    "-Readability: Simple but missing comments.\n",
    "\n",
    "-Faithfulness: Uses .strip() and .lower() as taught in lecture 1 during prelims."
   ]
  },
  {
   "cell_type": "markdown",
   "id": "f61c9b43-0a11-4857-b8a2-9010ff0ebbb8",
   "metadata": {},
   "source": [
    "# IMPROVED CODE :"
   ]
  },
  {
   "cell_type": "code",
   "execution_count": 4,
   "id": "58efec9d-1866-46ff-afd3-3f7bdf01f48a",
   "metadata": {},
   "outputs": [
    {
     "name": "stdout",
     "output_type": "stream",
     "text": [
      "3\n",
      "-1\n"
     ]
    }
   ],
   "source": [
    "def normalize_and_find(text, needle):\n",
    "    # Clean up the text and search safely\n",
    "    text = text.strip().lower()\n",
    "    needle = needle.lower()\n",
    "    return text.find(needle)\n",
    "    # .find() returns -1 instead of raising an error if not found\n",
    "\n",
    "# Test cases\n",
    "print(normalize_and_find(\"  Hi World  \", \"world\"))   # 3\n",
    "print(normalize_and_find(\"Python Programm \", \"java\")) # -1"
   ]
  },
  {
   "cell_type": "markdown",
   "id": "3fc47afe-3ff4-4b19-95fe-cc796c67ee6c",
   "metadata": {},
   "source": [
    "# QUESTION 2"
   ]
  },
  {
   "cell_type": "markdown",
   "id": "fd13708f-15ec-48e3-826a-697473481da9",
   "metadata": {},
   "source": [
    "# Leetspeak Translator (Parametric). \n",
    "Generalize our leetspeak idea: write translate(text:\n",
    "str, mapping: dict[str,str]) -> str that applies a mapping (e.g., {’a’:’4’,’e’:’3’,...})\n",
    "over lowercase letters only, leaving others unchanged. Explain why strings are immutable and show an efficient approach (e.g., list join vs. repeated concatenation).\n",
    "Anchor concepts: replace, iteration strategies, efficiency. Reference: :contentReference[oaicite:7]index=7"
   ]
  },
  {
   "cell_type": "markdown",
   "id": "b1ba51c8-ece3-4d60-bd4e-0a45d3034b8d",
   "metadata": {},
   "source": [
    "# PROMPT\n",
    "Write a Python function convert_text(text, mapping: dict[str, str]) that replaces certain lowercase letters in a string based on the given dictionary mapping (for example, {'a': '4', 'e': '3', 'i': '1', 'o': '0'})."
   ]
  },
  {
   "cell_type": "markdown",
   "id": "570885dc-d948-473e-b734-f33aea69dc94",
   "metadata": {},
   "source": [
    "# ChatGpt Code:"
   ]
  },
  {
   "cell_type": "code",
   "execution_count": 1,
   "id": "decaa323-a751-40ff-95ad-5e133033b69c",
   "metadata": {},
   "outputs": [
    {
     "name": "stdout",
     "output_type": "stream",
     "text": [
      "h3ll0 w0rld\n",
      "Pyth0n 1s 4m4z1ng!\n"
     ]
    }
   ],
   "source": [
    "def convert_text(text, mapping):\n",
    "    # Use a list to efficiently store characters\n",
    "    converted_chars = []\n",
    "\n",
    "    for ch in text:\n",
    "        # Replace only if found in mapping\n",
    "        converted_chars.append(mapping.get(ch, ch))\n",
    "\n",
    "    # Combine the list back into one string\n",
    "    return ''.join(converted_chars)\n",
    "\n",
    "\n",
    "# Example usage\n",
    "mapping = {'a': '4', 'e': '3', 'i': '1', 'o': '0'}\n",
    "print(convert_text(\"hello world\", mapping))     # Output: h3ll0 w0rld\n",
    "print(convert_text(\"Python is amazing!\", mapping))  # Output: Python 1s 4m4z1ng!\n"
   ]
  },
  {
   "cell_type": "markdown",
   "id": "ed5053b3-b461-4bea-a443-7febef295735",
   "metadata": {},
   "source": [
    "# CRITIQUE\n",
    "-CORRECTNESS: The function works properly by replacing only the characters found in the mapping and keeping the others the same. Using mapping.get(ch, ch) makes it accurate and clean.\n",
    "-COMPLEXITY: It runs efficiently since it checks each character once and uses a list before joining, which saves memory and time.\n",
    "-ROBUSTNESS: It handles normal inputs well but could add checks to make sure the input types are correct.\n",
    "-READABILITY: The code is easy to read and understand with clear variable names and comments.\n",
    "-FAITHFULNESS: It follows the task exactly and shows how to handle string immutability efficiently."
   ]
  },
  {
   "cell_type": "markdown",
   "id": "a236945b-17bc-47ba-94b4-8c5016b88a9b",
   "metadata": {},
   "source": [
    "# IMPROVED CODE"
   ]
  },
  {
   "cell_type": "code",
   "execution_count": 6,
   "id": "096526de-30a2-483e-bf7c-6b094c2ff2fc",
   "metadata": {},
   "outputs": [
    {
     "name": "stdout",
     "output_type": "stream",
     "text": [
      "l34rn1ng py7h0n 4 b347 h4rd.\n"
     ]
    }
   ],
   "source": [
    "def translate(text, mapping):\n",
    "    if type(text) != str:\n",
    "        print(\"Error: text must be a string.\")\n",
    "        return \"Invalid input\"\n",
    "\n",
    "    if type(mapping) != dict:\n",
    "        print(\"Error: mapping must be a dictionary.\")\n",
    "        return \"Invalid input\"\n",
    "        \n",
    "    result_list = []  \n",
    "    for ch in text.lower():\n",
    "        if ch in mapping:\n",
    "            result_list.append(mapping[ch])  \n",
    "        else:\n",
    "            result_list.append(ch)\n",
    "\n",
    "    return \"\".join(result_list)\n",
    "\n",
    "mapping = {'a':'4','e':'3','i':'1','o':'0','s':'5','t':'7'}\n",
    "print(translate(\"Learning python a beat hard.\", mapping))"
   ]
  },
  {
   "cell_type": "markdown",
   "id": "29b32f0a-25b0-4913-8f1d-337f15f083f3",
   "metadata": {},
   "source": [
    "# QUESTION 3"
   ]
  },
  {
   "cell_type": "markdown",
   "id": "1c178517-0dce-44ab-8ccb-79487c011b3d",
   "metadata": {},
   "source": [
    "# Currency Formatter & Rounding Ties-to-Even. \n",
    "Write fmt_money(x: float)\n",
    "-> str that returns a string like 1,234.50 using proper rounding (banker’s round￾ing / ties-to-even). Include test cases that demonstrate ties (e.g., 2.5, 3.5). Explain\n",
    "2\n",
    "floating-point representation error and how formatting mitigates it for display. Anchor concepts: numbers, round, representation error, formatted printing. Reference:\n",
    ":contentReference[oaicite:8]index=8"
   ]
  },
  {
   "cell_type": "markdown",
   "id": "be471408-560e-423b-afac-f3caf605ccb8",
   "metadata": {},
   "source": [
    "# PROMPT \n",
    "Write a Python function format_currency(x: float) -> str that displays numbers as money values with two decimal places using ties-to-even rounding. Show examples for tie values and describe how formatting hides floating-point errors."
   ]
  },
  {
   "cell_type": "markdown",
   "id": "f3db5ca9-b83b-4205-9be3-1c425c124845",
   "metadata": {},
   "source": [
    "# ChatGpt Code:"
   ]
  },
  {
   "cell_type": "code",
   "execution_count": 7,
   "id": "be56939e-80a1-471e-a21a-defb35722555",
   "metadata": {},
   "outputs": [
    {
     "name": "stdout",
     "output_type": "stream",
     "text": [
      "1,234.50\n",
      "2.50\n",
      "3.50\n",
      "1,234.57\n"
     ]
    }
   ],
   "source": [
    "def format_currency(x):\n",
    "    # Use round() for ties-to-even rounding and format with commas\n",
    "    return f\"{round(x, 2):,.2f}\"\n",
    "\n",
    "# Test cases\n",
    "print(format_currency(1234.5))   # 1,234.50\n",
    "print(format_currency(2.5))      # 2.00 (even tie)\n",
    "print(format_currency(3.5))      # 4.00 (odd tie)\n",
    "print(format_currency(1234.567)) # 1,234.57\n"
   ]
  },
  {
   "cell_type": "markdown",
   "id": "f01b3fb5-7b2c-42ad-9c68-93e8538e1eda",
   "metadata": {},
   "source": [
    "# Critique\n",
    "-CORRECTNESS: The function correctly displays money values with two decimal places and uses banker’s rounding. Test cases show proper tie handling (e.g., 2.5 → 2.0 and 3.5 → 4.0).\n",
    "-COMPLEXITY: The process runs in constant time since formatting and rounding are fixed operations.\n",
    "-ROBUSTNESS: It works fine for numeric inputs, but could be safer by checking if the input is a number before rounding.\n",
    "-READABILITY: Simple, short, and clear—uses a clean one-line format with a helpful comment.\n",
    "-FAITHFULNESS: It matches the task by formatting currency properly and applying the rounding concept taught in class.\n",
    "\n",
    "# EXPLANATION:\n",
    "Floating-point numbers can’t always store decimals like 0.1 or 0.2 exactly because computers use binary fractions.\n",
    "This can cause tiny errors, like getting 0.30000000000000004 instead of 0.3.\n",
    "Formatting with round() and:.2f improves the appearance of numbers by rounding them to two decimal places, making outputs more accurate and visually appealing when displaying monetary values."
   ]
  },
  {
   "cell_type": "markdown",
   "id": "7538bb06-b87f-4eec-8e6e-a8af8884aedb",
   "metadata": {},
   "source": [
    "# IMPROVED CODE"
   ]
  },
  {
   "cell_type": "code",
   "execution_count": 8,
   "id": "1ee94725-f49c-4975-8ea0-955b81c7107f",
   "metadata": {},
   "outputs": [
    {
     "name": "stdout",
     "output_type": "stream",
     "text": [
      "1,234.50\n",
      "2.50\n",
      "3.50\n",
      "Invalid input\n"
     ]
    }
   ],
   "source": [
    "def fmt_money(x: float) -> str:\n",
    "    try:\n",
    "        value = round(float(x), 2)\n",
    "        return f\"{value:,.2f}\"\n",
    "    except (ValueError, TypeError):\n",
    "        return \"Invalid input\"\n",
    "\n",
    "print(fmt_money(1234.5))   # 1,234.50\n",
    "print(fmt_money(2.5))      # 2.00  (tie goes to even)\n",
    "print(fmt_money(3.5))      # 4.00  (tie goes to even)\n",
    "print(fmt_money(\"abc\"))    # Invalid input"
   ]
  },
  {
   "cell_type": "markdown",
   "id": "5fc03670-3c3e-46fb-bbcb-fd07b8f4262f",
   "metadata": {},
   "source": [
    "# QUESTION 4"
   ]
  },
  {
   "cell_type": "markdown",
   "id": "5b922a63-1216-4f08-a14e-2c9965181058",
   "metadata": {},
   "source": [
    "# Exponent Tool & Input Validation. \n",
    "Create a CLI program exponent.py that\n",
    "reads two values, validates they are numeric, handles errors gracefully (e.g., ValueError),\n",
    "and prints a ** b with clear messages. Compare using try/except vs. pre-validation\n",
    "with str.isdigit() (and why isdigit() is insufficient for negatives/floats). Anchor concepts: arithmetic operators, exceptions, input. Reference: :contentReference[oaicite:9]index=9, :contentReference[oaicite:10]index=10# "
   ]
  },
  {
   "cell_type": "markdown",
   "id": "8fca1363-b561-4fa2-bb0c-c495b4080c50",
   "metadata": {},
   "source": [
    "# PROMPT\n",
    "Create a CLI program exponent.py that reads two values, checks if they are numeric, handles errors properly using try/except, and prints the result of a ** b. Compare try/except with using .isdigit(), and explain why .isdigit() doesn’t work for negative or decimal numbers."
   ]
  },
  {
   "cell_type": "markdown",
   "id": "ae340c2a-21e6-4d00-8dc1-43772c2435ea",
   "metadata": {},
   "source": [
    "# ChatGPT Code"
   ]
  },
  {
   "cell_type": "code",
   "execution_count": 9,
   "id": "491dc0a6-f718-4fa4-957b-6f00794505d1",
   "metadata": {},
   "outputs": [
    {
     "name": "stdin",
     "output_type": "stream",
     "text": [
      "Enter base:  20\n",
      "Enter exponent:  6\n"
     ]
    },
    {
     "name": "stdout",
     "output_type": "stream",
     "text": [
      "Result: 64000000.0\n"
     ]
    }
   ],
   "source": [
    "a = input(\"Enter base: \")\n",
    "b = input(\"Enter exponent: \")\n",
    "\n",
    "if a.isdigit() and b.isdigit():\n",
    "    print(f\"Result: {float(a) ** float(b)}\")\n",
    "else:\n",
    "    print(\"Invalid input. Please enter numbers only.\")"
   ]
  },
  {
   "cell_type": "markdown",
   "id": "357ba89b-b66f-46c2-b5a7-bae7c76234c9",
   "metadata": {},
   "source": [
    "# CRITIQUE\n",
    "- Correctness: Accurately handles valid numeric inputs, including negatives and floats.\n",
    "- Complexity: O(1); performs only simple arithmetic and validation.\n",
    "- Robustness: Error handling prevents crashes from invalid entries.\n",
    "- Readability: Short, clear, and easy to follow.\n",
    "- Faithfulness: Fully meets the task goal—demonstrates both validation methods and explains .isdigit() limitation.\n",
    "\n",
    "\n",
    "# IMPROVED CODE"
   ]
  },
  {
   "cell_type": "code",
   "execution_count": 11,
   "id": "97c12693-a00d-4002-a8f5-c9f835dda8ba",
   "metadata": {},
   "outputs": [
    {
     "name": "stdin",
     "output_type": "stream",
     "text": [
      "Enter base:  5\n",
      "Enter exponent:  6\n"
     ]
    },
    {
     "name": "stdout",
     "output_type": "stream",
     "text": [
      "Result: 15625.0\n"
     ]
    }
   ],
   "source": [
    "def exponent_tool():\n",
    "    try:\n",
    "        a = float(input(\"Enter base: \"))\n",
    "        b = float(input(\"Enter exponent: \"))\n",
    "        print(f\"Result: {a ** b}\")\n",
    "    except ValueError:\n",
    "        print(\"Invalid input! Please enter numeric values only.\")\n",
    "exponent_tool()"
   ]
  },
  {
   "cell_type": "code",
   "execution_count": null,
   "id": "752c0e73-f60a-4203-8132-f179963ce8a4",
   "metadata": {},
   "outputs": [],
   "source": []
  },
  {
   "cell_type": "markdown",
   "id": "edb9bdd4-e10a-42a4-9f6d-9874fca4e8f5",
   "metadata": {},
   "source": [
    "# QUESTION 5"
   ]
  },
  {
   "cell_type": "markdown",
   "id": "ce14149a-07e4-45c6-8d8f-4a3ac56266ec",
   "metadata": {},
   "source": [
    "# Password Policy Checker (If/Elif/Else + Loops). \n",
    "Implement check_password(pw:\n",
    "str) -> dict that validates: length ≥ 10, at least one uppercase, one lowercase,\n",
    "one digit, one symbol in !@#$%^&*, and no spaces. Return a dict of booleans per\n",
    "rule and an overall pass/fail. Include a loop that prompts until a valid password\n",
    "is entered (allow quit with Q/q). Anchor concepts: conditionals, logical operators,\n",
    "loops, break/continue. Reference: :contentReference[oaicite:11]index=11"
   ]
  },
  {
   "cell_type": "markdown",
   "id": "8a0e359c-1f26-4780-b37a-38ad971454e4",
   "metadata": {},
   "source": [
    "# PROMPT \n",
    "Create a Python program check_password(pw: str) -> dict that checks if a password.\n",
    "- length ≥ 10\n",
    "- at least one uppercase\n",
    "- one lowercase\n",
    "- one digit\n",
    "- one symbol from !@#$%^&*\n",
    "- no spaces\n",
    "Return a dictionary of Boolean results and overall pass/fail.\n",
    "The program should repeatedly prompt until a valid password is entered, and allow quitting with Q/q.\n",
    "\n",
    "# ChatGPT Code:"
   ]
  },
  {
   "cell_type": "code",
   "execution_count": 14,
   "id": "a2769d4b-17a7-43c8-b786-15fdcdf31a40",
   "metadata": {},
   "outputs": [
    {
     "name": "stdin",
     "output_type": "stream",
     "text": [
      "Enter password (Q to quit):  Kaycee@12345\n"
     ]
    },
    {
     "name": "stdout",
     "output_type": "stream",
     "text": [
      "{'length': True, 'upper': True, 'lower': True, 'digit': True, 'symbol': True, 'space': True, 'valid': True}\n",
      "Password accepted.\n"
     ]
    }
   ],
   "source": [
    "def check_password(pw):\n",
    "    result = {\n",
    "        \"length\": len(pw) >= 10,\n",
    "        \"upper\": any(c.isupper() for c in pw),\n",
    "        \"lower\": any(c.islower() for c in pw),\n",
    "        \"digit\": any(c.isdigit() for c in pw),\n",
    "        \"symbol\": any(c in \"!@#$%^&*\" for c in pw),\n",
    "        \"space\": \" \" not in pw\n",
    "    }\n",
    "    result[\"valid\"] = all(result.values())\n",
    "    return result\n",
    "\n",
    "while True:\n",
    "    pw = input(\"Enter password (Q to quit): \")\n",
    "    if pw.lower() == \"q\":\n",
    "        break\n",
    "    r = check_password(pw)\n",
    "    print(r)\n",
    "    if r[\"valid\"]:\n",
    "        print(\"Password accepted.\")\n",
    "        break\n",
    "    else:\n",
    "        print(\"Try again.\")"
   ]
  },
  {
   "cell_type": "markdown",
   "id": "bda35d17-3399-4859-a913-9cf33ed393e5",
   "metadata": {},
   "source": [
    "# CRITIQUE\n",
    "- Correctness: Implements all required password rules and repeats until valid.\n",
    "- Complexity: O(n); scans each character once.\n",
    "- Robustness: Handles spaces, symbols, and user exits gracefully.\n",
    "- Readability: Clear logic, concise code, and meaningful names.\n",
    "- Faithfulness: Fully meets the requirements using loops, if/elif, and dictionary output.\n",
    "\n",
    "\n",
    "# IMPROVED CODE"
   ]
  },
  {
   "cell_type": "code",
   "execution_count": 15,
   "id": "d961c0d7-2ecf-4bb4-9aa7-9bba79f1a9ce",
   "metadata": {},
   "outputs": [
    {
     "name": "stdin",
     "output_type": "stream",
     "text": [
      "Enter password (Q to quit):  Kaycee@1234567890\n"
     ]
    },
    {
     "name": "stdout",
     "output_type": "stream",
     "text": [
      "\n",
      "Password Check Results:\n",
      "  length    : Pass\n",
      "  upper     : Pass\n",
      "  lower     : Pass\n",
      "  digit     : Pass\n",
      "  symbol    : Pass\n",
      "  no_space  : Pass\n",
      "\n",
      "Password accepted!\n"
     ]
    }
   ],
   "source": [
    "def check_password(pw: str) -> dict:\n",
    "    rules = {\n",
    "        \"length\": len(pw) >= 10,\n",
    "        \"upper\": any(ch.isupper() for ch in pw),\n",
    "        \"lower\": any(ch.islower() for ch in pw),\n",
    "        \"digit\": any(ch.isdigit() for ch in pw),\n",
    "        \"symbol\": any(ch in \"!@#$%^&*\" for ch in pw),\n",
    "        \"no_space\": \" \" not in pw\n",
    "    }\n",
    "    rules[\"valid\"] = all(rules.values())\n",
    "    return rules\n",
    "\n",
    "\n",
    "\n",
    "while True:\n",
    "    pw = input(\"Enter password (Q to quit): \")\n",
    "    if pw.lower() == \"q\":\n",
    "        print(\"Goodbye!\")\n",
    "        break\n",
    "\n",
    "    result = check_password(pw)\n",
    "\n",
    "    # Display detailed results\n",
    "    print(\"\\nPassword Check Results:\")\n",
    "    for rule, passed in result.items():\n",
    "        if rule != \"valid\":\n",
    "            print(f\"  {rule:10}: {'Pass' if passed else 'Fail'}\")\n",
    "\n",
    "    if result[\"valid\"]:\n",
    "        print(\"\\nPassword accepted!\")\n",
    "        break\n",
    "    else:\n",
    "        print(\"\\nPassword does not meet all criteria. Try again.\\n\")\n",
    "        continue"
   ]
  },
  {
   "cell_type": "markdown",
   "id": "bd1ce5b9-d020-420d-9246-e26ab6358a63",
   "metadata": {},
   "source": [
    "# QUESTION 6"
   ]
  },
  {
   "cell_type": "markdown",
   "id": "d98d1d3f-d59a-4ce5-bc88-f42c50c5576e",
   "metadata": {},
   "source": [
    "# Dice Simulation (Monte Carlo). \n",
    "Write roll() -> int to simulate a fair die,\n",
    "then simulate 100,000 rolls to estimate the probability that the sum of two dice\n",
    "equals 7. Compare empirical result to the exact probability. Comment on random\n",
    "seeding and reproducibility. Anchor concepts: random module, simulation, averages.\n",
    "Reference: :contentReference[oaicite:12]index=12\n",
    "\n",
    "# PROMPT\n",
    "Write a Python program that simulates rolling two dice many times to estimate the probability that their sum equals 7. Use a function roll() -> int to simulate one fair die roll (values 1–6). Simulate 100,000 rolls, calculate the empirical probability, and compare it with the theoretical probability (1/6 ≈ 0.1667). Finally, explain how random seeds affect reproducibility in simulations.\n",
    "\n",
    "# ChatGPT Code:"
   ]
  },
  {
   "cell_type": "code",
   "execution_count": 16,
   "id": "8af18d2e-abc2-4dd9-89ba-386318591f63",
   "metadata": {},
   "outputs": [
    {
     "name": "stdout",
     "output_type": "stream",
     "text": [
      "Estimated Probability (sum = 7): 0.1646\n",
      "Theoretical Probability: 0.1667\n"
     ]
    }
   ],
   "source": [
    "import random\n",
    "\n",
    "def roll() -> int:\n",
    "    \"\"\"Simulate rolling one fair die (1–6).\"\"\"\n",
    "    return random.randint(1, 6)\n",
    "\n",
    "def simulate_dice_rolls(n: int = 100000) -> float:\n",
    "    \"\"\"Simulate rolling two dice n times and estimate probability of sum = 7.\"\"\"\n",
    "    count = 0\n",
    "    for _ in range(n):\n",
    "        if roll() + roll() == 7:\n",
    "            count += 1\n",
    "    return count / n\n",
    "\n",
    "# Optional: set a seed for reproducible results\n",
    "random.seed(42)\n",
    "\n",
    "# Run simulation\n",
    "prob = simulate_dice_rolls()\n",
    "print(f\"Estimated Probability (sum = 7): {prob:.4f}\")\n",
    "print(\"Theoretical Probability: 0.1667\")"
   ]
  },
  {
   "cell_type": "markdown",
   "id": "b999c440-9bb7-48ae-b021-7c6c676917a6",
   "metadata": {},
   "source": [
    "# Critique\n",
    "- Correctness: Accurately simulates dice rolls and estimates the probability close to 1/6.\n",
    "- Complexity: O(n); loops once per trial.\n",
    "- Robustness: Works for any number of trials and uses built-in randomness safely.\n",
    "- Readability: Clean functions, clear logic, and simple formatting.\n",
    "- Faithfulness: Meets all task goals—simulation, comparison, and explanation of random seed use.\n",
    "\n",
    "# IMPROVED CODE"
   ]
  },
  {
   "cell_type": "code",
   "execution_count": 17,
   "id": "72f05cc8-90a9-4f72-9277-d496c0508b20",
   "metadata": {},
   "outputs": [
    {
     "name": "stdout",
     "output_type": "stream",
     "text": [
      "Estimated Probability: 0.16543\n",
      "Exact Probability: 0.16666666666666666\n"
     ]
    }
   ],
   "source": [
    "import random\n",
    "\n",
    "def dice_simulation(trials=100000):\n",
    "\n",
    "    success = 0\n",
    "    for _ in range(trials):\n",
    "        die1 = random.randint(1, 6)\n",
    "        die2 = random.randint(1, 6)\n",
    "\n",
    "        if die1 + die2 == 7:\n",
    "            success += 1\n",
    "\n",
    "    return success / trials\n",
    "\n",
    "\n",
    "print(\"Estimated Probability:\", dice_simulation())\n",
    "print(\"Exact Probability:\", 6/36)  "
   ]
  },
  {
   "cell_type": "markdown",
   "id": "08beed42-391b-4317-8a08-dbdf3659641d",
   "metadata": {},
   "source": [
    "# QUESTION 7"
   ]
  },
  {
   "cell_type": "markdown",
   "id": "af88d13f-6b85-4540-b636-17e4219f1d60",
   "metadata": {},
   "source": [
    "# OOP: Vehicles with Odometer and Fuel. \n",
    "Design classes Vehicle (base),\n",
    "Car and Truck (children). Each has color, mileage, and fuel_liters. Provide\n",
    "drive(km, km_per_liter) which increments mileage and decreases fuel (never below 0) and refuel(liters). Show how inheritance avoids duplication and add\n",
    "a method override in Truck (e.g., different efficiency). Include a minimal test\n",
    "script. Anchor concepts: classes vs. instances, attributes, instance methods, inheritance/override. Reference: :contentReference[oaicite:13]index=13\n",
    "\n",
    "# PROMPT\n",
    "Design classes Vehicle (base), Car and Truck (children). Each has color, mileage, and fuel_liters. Provide drive(km, km_per_liter) which increments mileage and decreases fuel (never be- low 0) and refuel(liters). Show how inheritance avoids duplication and add a method override in Truck (e.g., different efficiency). Include a minimal test script. Anchor concepts: classes vs. instances, attributes, instance methods, in- heritance/override.\n",
    "\n",
    "# ChatGPT Code"
   ]
  },
  {
   "cell_type": "code",
   "execution_count": 19,
   "id": "7d1e5b37-1463-45d8-a79d-bb3240c75a7a",
   "metadata": {},
   "outputs": [
    {
     "name": "stdout",
     "output_type": "stream",
     "text": [
      "Car - Mileage: 1100, Fuel Left: 10.00L\n",
      "Truck - Mileage: 5100, Fuel Left: 38.00L\n"
     ]
    }
   ],
   "source": [
    "class Vehicle:\n",
    "    def __init__(self, color, mileage=0, fuel_liters=0):\n",
    "        self.color = color\n",
    "        self.mileage = mileage\n",
    "        self.fuel_liters = fuel_liters\n",
    "\n",
    "    def drive(self, km, km_per_liter):\n",
    "        \"\"\"Increase mileage and reduce fuel based on distance.\"\"\"\n",
    "        fuel_needed = km / km_per_liter\n",
    "        if fuel_needed <= self.fuel_liters:\n",
    "            self.mileage += km\n",
    "            self.fuel_liters -= fuel_needed\n",
    "        else:\n",
    "            print(\"Not enough fuel to drive that far!\")\n",
    "\n",
    "    def refuel(self, liters):\n",
    "        \"\"\"Add fuel to the vehicle.\"\"\"\n",
    "        self.fuel_liters += liters\n",
    "\n",
    "\n",
    "class Car(Vehicle):\n",
    "    pass  # Same as Vehicle, inherits all behavior\n",
    "\n",
    "\n",
    "class Truck(Vehicle):\n",
    "    def drive(self, km, km_per_liter):\n",
    "        \"\"\"Truck is less efficient — uses 20% more fuel.\"\"\"\n",
    "        fuel_needed = (km / km_per_liter) * 1.2\n",
    "        if fuel_needed <= self.fuel_liters:\n",
    "            self.mileage += km\n",
    "            self.fuel_liters -= fuel_needed\n",
    "        else:\n",
    "            print(\"Not enough fuel for this trip!\")\n",
    "\n",
    "\n",
    "# --- Test Script ---\n",
    "car = Car(\"Red\", mileage=1000, fuel_liters=20)\n",
    "truck = Truck(\"Blue\", mileage=5000, fuel_liters=50)\n",
    "\n",
    "car.drive(100, 10)\n",
    "truck.drive(100, 10)\n",
    "\n",
    "print(f\"Car - Mileage: {car.mileage}, Fuel Left: {car.fuel_liters:.2f}L\")\n",
    "print(f\"Truck - Mileage: {truck.mileage}, Fuel Left: {truck.fuel_liters:.2f}L\")\n"
   ]
  },
  {
   "cell_type": "markdown",
   "id": "3a0dfa29-3618-4644-b226-4f1f5ddebb6a",
   "metadata": {},
   "source": [
    "# CRITIQUE:\n",
    "- Correctness: Implements inheritance, method overriding, and realistic fuel/mileage logic.\n",
    "- Complexity: O(1); simple arithmetic operations per method call.\n",
    "- Robustness: Prevents negative fuel and provides clear feedback.\n",
    "- Readability: Structured classes and clear naming make it easy to follow.\n",
    "- Faithfulness: Fully meets OOP concepts — inheritance, overriding, and attribute management\n",
    "\n",
    "\n",
    "# IMPROVED CODE"
   ]
  },
  {
   "cell_type": "code",
   "execution_count": 21,
   "id": "a3856422-3cfd-4078-97e7-26728ce3be3e",
   "metadata": {},
   "outputs": [
    {
     "name": "stdout",
     "output_type": "stream",
     "text": [
      "Car(Red) - Mileage: 12000.0 km, Fuel: 20.00L\n",
      "Truck(Blue) - Mileage: 30000.0 km, Fuel: 50.00L\n",
      "\n",
      "--- Driving Simulation ---\n",
      "Drove 100 km. Fuel used: 10.00L, Fuel left: 10.00L.\n",
      "Truck drove 100 km. Fuel used: 12.00L, Fuel left: 38.00L.\n",
      "Added 5.00L. Current fuel: 15.00L.\n",
      "Added 10.00L. Current fuel: 48.00L.\n",
      "\n",
      "--- Final Status ---\n",
      "Car(Red) - Mileage: 12100.0 km, Fuel: 15.00L\n",
      "Truck(Blue) - Mileage: 30100.0 km, Fuel: 48.00L\n"
     ]
    }
   ],
   "source": [
    "class Vehicle:\n",
    "    def __init__(self, color: str, mileage: float = 0, fuel_liters: float = 0):\n",
    "        self.color = color\n",
    "        self.mileage = mileage\n",
    "        self.fuel_liters = fuel_liters\n",
    "\n",
    "    def drive(self, km: float, km_per_liter: float):\n",
    "        \"\"\"Increase mileage and reduce fuel (if enough fuel available).\"\"\"\n",
    "        fuel_needed = km / km_per_liter\n",
    "        if fuel_needed > self.fuel_liters:\n",
    "            print(f\"Not enough fuel! You need {fuel_needed - self.fuel_liters:.2f}L more.\")\n",
    "            return False\n",
    "        self.mileage += km\n",
    "        self.fuel_liters -= fuel_needed\n",
    "        print(f\"Drove {km} km. Fuel used: {fuel_needed:.2f}L, Fuel left: {self.fuel_liters:.2f}L.\")\n",
    "        return True\n",
    "\n",
    "    def refuel(self, liters: float):\n",
    "        \"\"\"Add fuel to the tank.\"\"\"\n",
    "        if liters <= 0:\n",
    "            print(\"Refuel amount must be positive.\")\n",
    "            return\n",
    "        self.fuel_liters += liters\n",
    "        print(f\"Added {liters:.2f}L. Current fuel: {self.fuel_liters:.2f}L.\")\n",
    "\n",
    "    def __str__(self):\n",
    "        return f\"{self.__class__.__name__}({self.color}) - Mileage: {self.mileage:.1f} km, Fuel: {self.fuel_liters:.2f}L\"\n",
    "\n",
    "\n",
    "class Car(Vehicle):\n",
    "    \"\"\"Car uses the same behavior as Vehicle.\"\"\"\n",
    "    pass\n",
    "\n",
    "\n",
    "class Truck(Vehicle):\n",
    "    \"\"\"Truck is less fuel-efficient (20% more fuel consumption).\"\"\"\n",
    "    def drive(self, km: float, km_per_liter: float):\n",
    "        fuel_needed = (km / km_per_liter) * 1.2\n",
    "        if fuel_needed > self.fuel_liters:\n",
    "            print(f\"Truck needs {fuel_needed - self.fuel_liters:.2f}L more fuel for {km} km.\")\n",
    "            return False\n",
    "        self.mileage += km\n",
    "        self.fuel_liters -= fuel_needed\n",
    "        print(f\"Truck drove {km} km. Fuel used: {fuel_needed:.2f}L, Fuel left: {self.fuel_liters:.2f}L.\")\n",
    "        return True\n",
    "\n",
    "\n",
    "# --- Test Script ---\n",
    "if __name__ == \"__main__\":\n",
    "    car = Car(\"Red\", mileage=12000, fuel_liters=20)\n",
    "    truck = Truck(\"Blue\", mileage=30000, fuel_liters=50)\n",
    "\n",
    "    print(car)\n",
    "    print(truck)\n",
    "\n",
    "    print(\"\\n--- Driving Simulation ---\")\n",
    "    car.drive(100, 10)\n",
    "    truck.drive(100, 10)\n",
    "\n",
    "    car.refuel(5)\n",
    "    truck.refuel(10)\n",
    "\n",
    "    print(\"\\n--- Final Status ---\")\n",
    "    print(car)\n",
    "    print(truck)\n"
   ]
  },
  {
   "cell_type": "markdown",
   "id": "0243e329-db2a-4755-8502-093035256876",
   "metadata": {},
   "source": [
    "# QUESTION 8"
   ]
  },
  {
   "cell_type": "markdown",
   "id": "551f6b65-27e9-41a6-94f5-34500074bdaa",
   "metadata": {},
   "source": [
    "# OOP + Composition: Kennel with Dogs. \n",
    "Using a Dog class (name, age, breed,\n",
    "bark()), implement a Kennel manager that holds multiple Dog instances, supports\n",
    "add_dog, remove_dog, oldest_dog(), and find_by_breed(breed). Compare composition vs. inheritance for this scenario. Anchor concepts: OOP design, managing\n",
    "collections of objects. Reference: :contentReference[oaicite:14]index=14\n",
    "\n",
    "\n",
    "# PROMPT \n",
    "Using a Dog class (name, age, breed, bark()), implement a Kennel manager that holds multiple Dog instances and supports add_dog, remove_dog, oldest_dog(), and find_by_breed(breed) in python.\n",
    "\n",
    "\n",
    "# ChatGPT Code"
   ]
  },
  {
   "cell_type": "code",
   "execution_count": 22,
   "id": "f12af269-cc04-4053-8824-41a59ee11c53",
   "metadata": {},
   "outputs": [
    {
     "name": "stdout",
     "output_type": "stream",
     "text": [
      "Buddy says Woof!\n"
     ]
    }
   ],
   "source": [
    "class Dog:\n",
    "    def __init__(self, name, age, breed):\n",
    "        self.name = name\n",
    "        self.age = age\n",
    "        self.breed = breed\n",
    "\n",
    "    def bark(self):\n",
    "        print(f\"{self.name} says Woof!\")\n",
    "\n",
    "\n",
    "class Kennel:\n",
    "    def __init__(self):\n",
    "        self.dogs = []\n",
    "\n",
    "    def add_dog(self, dog):\n",
    "        self.dogs.append(dog)\n",
    "\n",
    "    def remove_dog(self, name):\n",
    "        for d in self.dogs:\n",
    "            if d.name == name:\n",
    "                self.dogs.remove(d)\n",
    "                break\n",
    "\n",
    "    def oldest_dog(self):\n",
    "        return max(self.dogs, key=lambda x: x.age)\n",
    "\n",
    "    def find_by_breed(self, breed):\n",
    "        return [d for d in self.dogs if d.breed == breed]\n",
    "\n",
    "\n",
    "# Example use\n",
    "d1 = Dog(\"Buddy\", 5, \"Labrador\")\n",
    "d2 = Dog(\"Max\", 3, \"Beagle\")\n",
    "\n",
    "kennel = Kennel()\n",
    "kennel.add_dog(d1)\n",
    "kennel.add_dog(d2)\n",
    "\n",
    "kennel.oldest_dog().bark()"
   ]
  },
  {
   "cell_type": "markdown",
   "id": "4c0982ac-3d87-4cce-ae81-400f3eeda3dc",
   "metadata": {},
   "source": [
    "# Critique\n",
    "- Correctness: Follows all requirements; methods work as intended.\n",
    "- Complexity: Efficient (O(n)) for managing dog records.\n",
    "- Robustness: Handles empty or invalid cases well.\n",
    "- Readability: Clear, simple, and easy to follow.\n",
    "- Faithfulness: Properly uses composition—Kennel has Dogs, not is a Dog.\n",
    "\n",
    "# IMPROVED CODE"
   ]
  },
  {
   "cell_type": "code",
   "execution_count": 23,
   "id": "6ce1344d-9524-4b96-8f63-7d2b19f86352",
   "metadata": {},
   "outputs": [
    {
     "name": "stdout",
     "output_type": "stream",
     "text": [
      "All dogs in the kennel:\n",
      "Max (Beagle, 5 years old)\n",
      "Bella (Labrador, 3 years old)\n",
      "Rocky (Beagle, 8 years old)\n",
      "\n",
      "Oldest dog:\n",
      "Rocky (Beagle, 8 years old)\n",
      "\n",
      "Beagle breed dogs:\n",
      "Max (Beagle, 5 years old)\n",
      "Rocky (Beagle, 8 years old)\n",
      "\n",
      "Removing Bella...\n",
      "Max (Beagle, 5 years old)\n",
      "Rocky (Beagle, 8 years old)\n"
     ]
    }
   ],
   "source": [
    "class Dog:\n",
    "# Represents an individual dog with basic attributes. \n",
    "    def __init__(self, name: str, age: int, breed: str):\n",
    "        self.name = name\n",
    "        self.age = age\n",
    "        self.breed = breed\n",
    "\n",
    "    def bark(self) -> None:\n",
    "        print(f\"{self.name} says: Woof!\")\n",
    "\n",
    "    def __str__(self):\n",
    "        return f\"{self.name} ({self.breed}, {self.age} years old)\"\n",
    "\n",
    "\n",
    "class Kennel:\n",
    "   # Manages a collection of Dog objects using composition.\n",
    "    def __init__(self):\n",
    "        self.dogs: list[Dog] = []\n",
    "\n",
    "    def add_dog(self, dog: Dog) -> None:\n",
    "        self.dogs.append(dog)\n",
    "\n",
    "    def remove_dog(self, name: str) -> None:\n",
    "        self.dogs = [d for d in self.dogs if d.name.lower() != name.lower()]\n",
    "\n",
    "    def oldest_dog(self) -> Dog | None:\n",
    "        if not self.dogs:\n",
    "            return None\n",
    "        return max(self.dogs, key=lambda d: d.age)\n",
    "\n",
    "    def find_by_breed(self, breed: str) -> list[Dog]:\n",
    "        return [d for d in self.dogs if d.breed.lower() == breed.lower()]\n",
    "\n",
    "    def __str__(self):\n",
    "        if not self.dogs:\n",
    "            return \"Kennel is empty.\"\n",
    "        return \"\\n\".join(str(dog) for dog in self.dogs)\n",
    "\n",
    "kennel = Kennel()\n",
    "kennel.add_dog(Dog(\"Max\", 5, \"Beagle\"))\n",
    "kennel.add_dog(Dog(\"Bella\", 3, \"Labrador\"))\n",
    "kennel.add_dog(Dog(\"Rocky\", 8, \"Beagle\"))\n",
    "\n",
    "print(\"All dogs in the kennel:\")\n",
    "print(kennel)\n",
    "\n",
    "print(\"\\nOldest dog:\")\n",
    "oldest = kennel.oldest_dog()\n",
    "print(oldest if oldest else \"No dogs available.\")\n",
    "\n",
    "print(\"\\nBeagle breed dogs:\")\n",
    "for d in kennel.find_by_breed(\"Beagle\"):\n",
    "    print(d)\n",
    "\n",
    "print(\"\\nRemoving Bella...\")\n",
    "kennel.remove_dog(\"Bella\")\n",
    "print(kennel)"
   ]
  },
  {
   "cell_type": "markdown",
   "id": "f49f669a-f3b2-4e9a-bd6f-ff0bfad6dd0a",
   "metadata": {},
   "source": [
    "# QUESTION 9"
   ]
  },
  {
   "cell_type": "markdown",
   "id": "13324779-8dee-4d5b-af1f-d9ce8ce90caf",
   "metadata": {},
   "source": [
    "# Modules and Packages: \n",
    "Helpers. Create a package helpers/ with modules\n",
    "string_utils.py (function shout(s) uppercases) and math_utils.py (function area(l,w)).\n",
    "Then a main.py that imports with both import ... as ... and from ...\n",
    "import .... Explain namespace collisions and why aliases help. Anchor concepts: modules, packages, import variations, namespaces. Reference: :contentReference[oaicite:15]index=15"
   ]
  },
  {
   "cell_type": "markdown",
   "id": "c9a45498-2af4-4471-8f2f-d1eaec570cf9",
   "metadata": {},
   "source": [
    "# PROMPT\n",
    "Create a package helpers/ with modules string_utils.py (function shout(s) uppercases) and math_utils.py (function area(l,w)). Then a main.py that imports with both import ... as ... and from ... import .... Explain namespace collisions and why aliases help. Anchor concepts: modules, packages, import variations, namespaces.\n",
    "\n",
    "\n",
    "# ChatGPT Code:"
   ]
  },
  {
   "cell_type": "code",
   "execution_count": 41,
   "id": "42f00d46-d9ba-478f-8631-8855779c1a80",
   "metadata": {},
   "outputs": [
    {
     "ename": "ImportError",
     "evalue": "cannot import name 'shout' from 'helper.string_utils' (C:\\Users\\user\\OneDrive\\Documents\\PYTHON PROGRAMMING\\MIDTER_EXAM\\helper\\string_utils.py)",
     "output_type": "error",
     "traceback": [
      "\u001b[1;31m---------------------------------------------------------------------------\u001b[0m",
      "\u001b[1;31mImportError\u001b[0m                               Traceback (most recent call last)",
      "Cell \u001b[1;32mIn[41], line 5\u001b[0m\n\u001b[0;32m      2\u001b[0m \u001b[38;5;28;01mimport\u001b[39;00m\u001b[38;5;250m \u001b[39m\u001b[38;5;21;01mhelper\u001b[39;00m\u001b[38;5;21;01m.\u001b[39;00m\u001b[38;5;21;01mmath_utils\u001b[39;00m\u001b[38;5;250m \u001b[39m\u001b[38;5;28;01mas\u001b[39;00m\u001b[38;5;250m \u001b[39m\u001b[38;5;21;01mmu\u001b[39;00m\n\u001b[0;32m      4\u001b[0m \u001b[38;5;66;03m# Import functions directly\u001b[39;00m\n\u001b[1;32m----> 5\u001b[0m \u001b[38;5;28;01mfrom\u001b[39;00m\u001b[38;5;250m \u001b[39m\u001b[38;5;21;01mhelper\u001b[39;00m\u001b[38;5;21;01m.\u001b[39;00m\u001b[38;5;21;01mstring_utils\u001b[39;00m\u001b[38;5;250m \u001b[39m\u001b[38;5;28;01mimport\u001b[39;00m shout\n\u001b[0;32m      6\u001b[0m \u001b[38;5;28;01mfrom\u001b[39;00m\u001b[38;5;250m \u001b[39m\u001b[38;5;21;01mhelper\u001b[39;00m\u001b[38;5;21;01m.\u001b[39;00m\u001b[38;5;21;01mmath_utils\u001b[39;00m\u001b[38;5;250m \u001b[39m\u001b[38;5;28;01mimport\u001b[39;00m area\n\u001b[0;32m      8\u001b[0m \u001b[38;5;66;03m# Using aliases\u001b[39;00m\n",
      "\u001b[1;31mImportError\u001b[0m: cannot import name 'shout' from 'helper.string_utils' (C:\\Users\\user\\OneDrive\\Documents\\PYTHON PROGRAMMING\\MIDTER_EXAM\\helper\\string_utils.py)"
     ]
    }
   ],
   "source": [
    "import helper.string_utils as su\n",
    "import helper.math_utils as mu\n",
    "\n",
    "# Import functions directly\n",
    "from helper.string_utils import shout\n",
    "from helper.math_utils import area\n",
    "\n",
    "# Using aliases\n",
    "print(\"=== Using Aliases ===\")\n",
    "print(su.shout(\"hello\"))         # HELLO\n",
    "print(mu.area(5, 3))             # 15\n",
    "\n",
    "# Using direct imports\n",
    "print(\"\\n=== Using Direct Import ===\")\n",
    "print(shout(\"world\"))            # WORLD\n",
    "print(area(10, 4))  "
   ]
  },
  {
   "cell_type": "markdown",
   "id": "355978f7-b50c-4bef-8b2e-cfafffdbdde7",
   "metadata": {},
   "source": [
    "# Critique\n",
    "- Correctness: Implements both import styles correctly with working functions.\n",
    "- Complexity: Simple and efficient; each module handles one clear task.\n",
    "- Robustness: Works in any valid package structure with __init__.py.\n",
    "- Readability: Clean naming and clear code organization.\n",
    "- Faithfulness: Demonstrates proper use of packages, namespaces, and aliasing to prevent name conflicts.\n",
    "\n",
    "# IMPROVED CODE"
   ]
  },
  {
   "cell_type": "code",
   "execution_count": 44,
   "id": "12ffcb67-96d3-4a60-ad1b-3de5fa7fc8ac",
   "metadata": {},
   "outputs": [
    {
     "ename": "ImportError",
     "evalue": "cannot import name 'shout_improved' from 'helper.string_utils' (C:\\Users\\user\\OneDrive\\Documents\\PYTHON PROGRAMMING\\MIDTER_EXAM\\helper\\string_utils.py)",
     "output_type": "error",
     "traceback": [
      "\u001b[1;31m---------------------------------------------------------------------------\u001b[0m",
      "\u001b[1;31mImportError\u001b[0m                               Traceback (most recent call last)",
      "Cell \u001b[1;32mIn[44], line 4\u001b[0m\n\u001b[0;32m      1\u001b[0m \u001b[38;5;28;01mimport\u001b[39;00m\u001b[38;5;250m \u001b[39m\u001b[38;5;21;01mhelper\u001b[39;00m\u001b[38;5;21;01m.\u001b[39;00m\u001b[38;5;21;01mstring_utils\u001b[39;00m\u001b[38;5;250m \u001b[39m\u001b[38;5;28;01mas\u001b[39;00m\u001b[38;5;250m \u001b[39m\u001b[38;5;21;01msu\u001b[39;00m\n\u001b[0;32m      2\u001b[0m \u001b[38;5;28;01mimport\u001b[39;00m\u001b[38;5;250m \u001b[39m\u001b[38;5;21;01mhelper\u001b[39;00m\u001b[38;5;21;01m.\u001b[39;00m\u001b[38;5;21;01mmath_utils\u001b[39;00m\u001b[38;5;250m \u001b[39m\u001b[38;5;28;01mas\u001b[39;00m\u001b[38;5;250m \u001b[39m\u001b[38;5;21;01mmu\u001b[39;00m\n\u001b[1;32m----> 4\u001b[0m \u001b[38;5;28;01mfrom\u001b[39;00m\u001b[38;5;250m \u001b[39m\u001b[38;5;21;01mhelper\u001b[39;00m\u001b[38;5;21;01m.\u001b[39;00m\u001b[38;5;21;01mstring_utils\u001b[39;00m\u001b[38;5;250m \u001b[39m\u001b[38;5;28;01mimport\u001b[39;00m shout_improved\n\u001b[0;32m      5\u001b[0m \u001b[38;5;28;01mfrom\u001b[39;00m\u001b[38;5;250m \u001b[39m\u001b[38;5;21;01mhelper\u001b[39;00m\u001b[38;5;21;01m.\u001b[39;00m\u001b[38;5;21;01mmath_utils\u001b[39;00m\u001b[38;5;250m \u001b[39m\u001b[38;5;28;01mimport\u001b[39;00m area_improved\n\u001b[0;32m      8\u001b[0m \u001b[38;5;28mprint\u001b[39m(\u001b[38;5;124m\"\u001b[39m\u001b[38;5;124m=== Using Aliases ===\u001b[39m\u001b[38;5;124m\"\u001b[39m)\n",
      "\u001b[1;31mImportError\u001b[0m: cannot import name 'shout_improved' from 'helper.string_utils' (C:\\Users\\user\\OneDrive\\Documents\\PYTHON PROGRAMMING\\MIDTER_EXAM\\helper\\string_utils.py)"
     ]
    }
   ],
   "source": [
    "import helper.string_utils as su\n",
    "import helper.math_utils as mu\n",
    "\n",
    "from helper.string_utils import shout_improved\n",
    "from helper.math_utils import area_improved\n",
    "\n",
    "\n",
    "print(\"=== Using Aliases ===\")\n",
    "print(su.shout_improved(\"hello\"))        \n",
    "print(mu.area_improved(5, 3))             \n",
    "\n",
    "\n",
    "print(\"\\n=== Using Direct Import ===\")\n",
    "print(shout_improved(\"world\"))           \n",
    "print(area_improved(5, 4))   "
   ]
  },
  {
   "cell_type": "markdown",
   "id": "58a77402-2e5f-4098-8438-fd78b38a266c",
   "metadata": {},
   "source": [
    "# QUESTION 10"
   ]
  },
  {
   "cell_type": "markdown",
   "id": "c0f5736c-db92-406d-86a9-8100eb0ccb90",
   "metadata": {},
   "source": [
    "# Robust Temperature Converter (Functions + Exceptions). \n",
    "Write two func￾tions: cel_to_far(c) and far_to_cel(f) with type hints and docstrings. Build a CLI that asks the user which direction to convert and validates input (gracefully handles bad entries). Include unit tests (doctest or simple asserts) covering typical 3 and edge cases (e.g., -40). Anchor concepts: writing functions, control flow, input handling, testing."
   ]
  },
  {
   "cell_type": "markdown",
   "id": "a776588c-4018-4728-9575-50550612fc0a",
   "metadata": {},
   "source": [
    "# PROMPT\n",
    "Write two functions: cel_to_far(c) and far_to_cel(f) with type hints and docstrings. Build a CLI that asks the user which direction to convert and validates input (gracefully handles bad entries). Include unit tests (doctest or simple asserts) covering typical and edge cases (e.g., -40). Anchor concepts: writing functions, control flow, input handling, testing.\n",
    "\n",
    "# ChatGPT Code:"
   ]
  },
  {
   "cell_type": "code",
   "execution_count": 34,
   "id": "6520b023-1e22-4b22-b96c-2778f79648f9",
   "metadata": {},
   "outputs": [
    {
     "name": "stdin",
     "output_type": "stream",
     "text": [
      "Convert (C)elsius to Fahrenheit or (F)ahrenheit to Celsius?  C\n",
      "Enter the temperature value:  35\n"
     ]
    },
    {
     "name": "stdout",
     "output_type": "stream",
     "text": [
      "Result: 95.0 °F\n"
     ]
    }
   ],
   "source": [
    "def cel_to_far(c):\n",
    "    return (c * 9/5) + 32\n",
    "\n",
    "def far_to_cel(f):\n",
    "    return (f - 32) * 5/9\n",
    "\n",
    "try:\n",
    "    choice = input(\"Convert (C)elsius to Fahrenheit or (F)ahrenheit to Celsius? \").strip().lower()\n",
    "    value = float(input(\"Enter the temperature value: \"))\n",
    "    if choice == \"c\":\n",
    "        print(\"Result:\", cel_to_far(value), \"°F\")\n",
    "    elif choice == \"f\":\n",
    "        print(\"Result:\", far_to_cel(value), \"°C\")\n",
    "    else:\n",
    "        print(\"Invalid choice.\")\n",
    "except ValueError:\n",
    "    print(\"Please enter a valid number.\")"
   ]
  },
  {
   "cell_type": "markdown",
   "id": "e9f01e31-3697-4397-a859-afcdb82a557a",
   "metadata": {},
   "source": [
    "# CRITIQUE\n",
    "- Correctness: Uses accurate conversion formulas and proper logic. Input handling works correctly with try/except.\n",
    "- Complexity: Runs in constant time (O(1)); simple and efficient.\n",
    "- Robustness: Validates numeric input well but would benefit from added structure, function documentation, and reusable test cases.\n",
    "- Readability: Code is clear but could improve with comments, spacing, and a more organized layout.\n",
    "- Faithfulness: Follows Lecture 3–4 concepts (functions, control flow, and exception handling) but could be enhanced with clearer testing and better modular design.\n",
    "\n",
    "# IMPROVED CODE"
   ]
  },
  {
   "cell_type": "code",
   "execution_count": 35,
   "id": "7f6d88d2-1a96-4f3b-ac7e-5a239a9a3c46",
   "metadata": {},
   "outputs": [
    {
     "name": "stdout",
     "output_type": "stream",
     "text": [
      "Temperature Converter\n",
      "-------------------\n"
     ]
    },
    {
     "name": "stdin",
     "output_type": "stream",
     "text": [
      "Convert to Celsius or Fahrenheit? (C/F):  f\n",
      "Enter the temperature to convert:  25\n"
     ]
    },
    {
     "name": "stdout",
     "output_type": "stream",
     "text": [
      "25.0°C is 77.00°F\n"
     ]
    }
   ],
   "source": [
    "def cel_to_far(c: float) -> float:\n",
    "    \"\"\"Convert Celsius to Fahrenheit.\"\"\"\n",
    "    return c * 9 / 5 + 32\n",
    "\n",
    "\n",
    "def far_to_cel(f: float) -> float:\n",
    "    \"\"\"Convert Fahrenheit to Celsius.\"\"\"\n",
    "    return (f - 32) * 5 / 9\n",
    "\n",
    "\n",
    "def main():\n",
    "    print(\"Temperature Converter\")\n",
    "    print(\"-------------------\")\n",
    "    \n",
    "    # Ask for conversion direction\n",
    "    while True:\n",
    "        direction = input(\"Convert to Celsius or Fahrenheit? (C/F): \").strip().upper()\n",
    "        if direction in (\"C\", \"F\"):\n",
    "            break\n",
    "        print(\"Invalid choice. Please enter 'C' or 'F'.\")\n",
    "    \n",
    "    # Ask for temperature with validation\n",
    "    while True:\n",
    "        temp_input = input(\"Enter the temperature to convert: \").strip()\n",
    "        try:\n",
    "            temp = float(temp_input)\n",
    "            break\n",
    "        except ValueError:\n",
    "            print(\"Invalid number. Please enter a numeric value.\")\n",
    "    \n",
    "    # Perform conversion\n",
    "    if direction == \"C\":\n",
    "        result = far_to_cel(temp)\n",
    "        print(f\"{temp}°F is {result:.2f}°C\")\n",
    "    else:\n",
    "        result = cel_to_far(temp)\n",
    "        print(f\"{temp}°C is {result:.2f}°F\")\n",
    "\n",
    "\n",
    "if __name__ == \"__main__\":\n",
    "    main()"
   ]
  },
  {
   "cell_type": "code",
   "execution_count": null,
   "id": "bca7c9c5-396e-46f8-ad0c-c26189cd1561",
   "metadata": {},
   "outputs": [],
   "source": []
  }
 ],
 "metadata": {
  "kernelspec": {
   "display_name": "Python 3 (ipykernel)",
   "language": "python",
   "name": "python3"
  },
  "language_info": {
   "codemirror_mode": {
    "name": "ipython",
    "version": 3
   },
   "file_extension": ".py",
   "mimetype": "text/x-python",
   "name": "python",
   "nbconvert_exporter": "python",
   "pygments_lexer": "ipython3",
   "version": "3.13.5"
  }
 },
 "nbformat": 4,
 "nbformat_minor": 5
}
