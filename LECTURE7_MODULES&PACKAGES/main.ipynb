{
 "cells": [
  {
   "cell_type": "markdown",
   "id": "b47f33a4-e68a-483a-aa17-228365832490",
   "metadata": {},
   "source": [
    "# Review Question 1"
   ]
  },
  {
   "cell_type": "code",
   "execution_count": 6,
   "id": "04af27b8-1b97-4f7f-8a77-542ff272dc58",
   "metadata": {},
   "outputs": [
    {
     "name": "stdout",
     "output_type": "stream",
     "text": [
      "Hello KAYCEE!\n"
     ]
    }
   ],
   "source": [
    "import greeter\n",
    "\n",
    "greeter.greet(\"KAYCEE\")"
   ]
  },
  {
   "cell_type": "markdown",
   "id": "d843028b-1296-428a-889a-8d0992b1b58b",
   "metadata": {},
   "source": [
    "# Review Exercises"
   ]
  },
  {
   "cell_type": "code",
   "execution_count": 7,
   "id": "8f6b7945-1703-4154-9342-483e109040a3",
   "metadata": {},
   "outputs": [
    {
     "name": "stdout",
     "output_type": "stream",
     "text": [
      " THE AREA OF A 5-BY-8 RECTANGLE IS 40\n"
     ]
    }
   ],
   "source": [
    "from package_exercises.string import shout\n",
    "from package_exercises.math import area\n",
    "\n",
    "name = shout(\"rectangle\")\n",
    "product = area(5,8)\n",
    "print(f\" THE AREA OF A 5-BY-8 {name} IS {product}\")"
   ]
  },
  {
   "cell_type": "code",
   "execution_count": null,
   "id": "3e269ff2-f023-4a96-a8bb-5860303bcbb5",
   "metadata": {},
   "outputs": [],
   "source": []
  }
 ],
 "metadata": {
  "kernelspec": {
   "display_name": "Python 3 (ipykernel)",
   "language": "python",
   "name": "python3"
  },
  "language_info": {
   "codemirror_mode": {
    "name": "ipython",
    "version": 3
   },
   "file_extension": ".py",
   "mimetype": "text/x-python",
   "name": "python",
   "nbconvert_exporter": "python",
   "pygments_lexer": "ipython3",
   "version": "3.13.5"
  }
 },
 "nbformat": 4,
 "nbformat_minor": 5
}
