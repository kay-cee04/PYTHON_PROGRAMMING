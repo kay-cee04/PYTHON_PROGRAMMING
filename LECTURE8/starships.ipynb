{
 "cells": [
  {
   "cell_type": "code",
   "execution_count": 8,
   "id": "254d0dd4-0962-4771-b4f7-222d97ac3705",
   "metadata": {},
   "outputs": [
    {
     "name": "stdout",
     "output_type": "stream",
     "text": [
      "Created file at: C:\\Users\\user\\PYTHON PROGRAMMING\\LECTURE8\\starships.txt\n"
     ]
    }
   ],
   "source": [
    "from pathlib import Path\n",
    "\n",
    "starships = [\"DISCOVERY\", \"ENTERPRISE\", \"DEFIANT\", \"VOYAGER\"]\n",
    "file_path = Path(\"starships.txt\")\n",
    "\n",
    "with file_path.open(\"w\") as f:\n",
    "    for s in starships:\n",
    "        f.write(s + \"\\n\")\n",
    "\n",
    "print(\"Created file at:\", file_path.resolve())"
   ]
  },
  {
   "cell_type": "code",
   "execution_count": 14,
   "id": "77d83270-3740-4643-97fb-5342112bf189",
   "metadata": {},
   "outputs": [
    {
     "name": "stdout",
     "output_type": "stream",
     "text": [
      "All starships:\n",
      "DISCOVERY\n",
      "ENTERPRISE\n",
      "DEFIANT\n",
      "VOYAGER\n"
     ]
    }
   ],
   "source": [
    "print(\"All starships:\")\n",
    "with open(\"starships.txt\", \"r\") as f:\n",
    "    for line in f:\n",
    "        print(line.strip())"
   ]
  },
  {
   "cell_type": "code",
   "execution_count": 13,
   "id": "1edd6f6e-3c48-48c5-ba5a-05069aaeaf98",
   "metadata": {},
   "outputs": [
    {
     "name": "stdout",
     "output_type": "stream",
     "text": [
      "Starships starting with 'D':\n",
      "DISCOVERY\n",
      "DEFIANT\n"
     ]
    }
   ],
   "source": [
    "print(\"Starships starting with 'D':\")\n",
    "with file_path.open(\"r\") as f:\n",
    "    for line in f:\n",
    "        name = line.strip()\n",
    "        if name.startswith(\"D\"):\n",
    "            print(name)"
   ]
  },
  {
   "cell_type": "code",
   "execution_count": 15,
   "id": "99585f34-52e3-4f52-a161-50daca314f09",
   "metadata": {},
   "outputs": [
    {
     "name": "stdout",
     "output_type": "stream",
     "text": [
      "Full path: C:\\Users\\user\\PYTHON PROGRAMMING\\LECTURE8\\starships.txt\n"
     ]
    }
   ],
   "source": [
    "from pathlib import Path\n",
    "print(\"Full path:\", Path(\"starships.txt\").resolve())"
   ]
  },
  {
   "cell_type": "code",
   "execution_count": 16,
   "id": "33b057bc-e3c4-4d91-b00d-a2b0b512e42c",
   "metadata": {},
   "outputs": [
    {
     "name": "stdout",
     "output_type": "stream",
     "text": [
      "C:\\Users\\user\\PYTHON PROGRAMMING\\LECTURE8\n"
     ]
    }
   ],
   "source": [
    "import os\n",
    "print(os.getcwd())"
   ]
  },
  {
   "cell_type": "code",
   "execution_count": null,
   "id": "e76bb6f4-9c0d-4cf5-a1e6-4317ecb3cbb5",
   "metadata": {},
   "outputs": [],
   "source": []
  }
 ],
 "metadata": {
  "kernelspec": {
   "display_name": "Python 3 (ipykernel)",
   "language": "python",
   "name": "python3"
  },
  "language_info": {
   "codemirror_mode": {
    "name": "ipython",
    "version": 3
   },
   "file_extension": ".py",
   "mimetype": "text/x-python",
   "name": "python",
   "nbconvert_exporter": "python",
   "pygments_lexer": "ipython3",
   "version": "3.13.5"
  }
 },
 "nbformat": 4,
 "nbformat_minor": 5
}
