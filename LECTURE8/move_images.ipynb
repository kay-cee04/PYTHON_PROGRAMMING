{
 "cells": [
  {
   "cell_type": "code",
   "execution_count": 3,
   "id": "a4794b89-5491-403b-8256-4a52cd4c4a23",
   "metadata": {},
   "outputs": [
    {
     "name": "stdout",
     "output_type": "stream",
     "text": [
      "Moved: IMAGE1.PNG\n",
      "Moved: IMAGE2.GIF\n",
      "Moved: IMAGE3.PNG\n",
      "Moved: IMAGE4.JPG\n",
      "\n",
      "All image files have been moved to: Practice Files\\IMAGES\n",
      "Files now in IMAGES folder:\n",
      " - .ipynb_checkpoints\n",
      " - IMAGE1.PNG\n",
      " - IMAGE2.GIF\n",
      " - IMAGE3.PNG\n",
      " - IMAGE4.JPG\n"
     ]
    }
   ],
   "source": [
    "import shutil\n",
    "from pathlib import Path\n",
    "\n",
    "# 1. Define the base folder (Practice Files)\n",
    "base_folder = Path(\"Practice Files\")\n",
    "\n",
    "# 2. Create the \"IMAGES\" folder inside Practice Files\n",
    "images_folder = base_folder / \"IMAGES\"\n",
    "images_folder.mkdir(exist_ok=True)\n",
    "\n",
    "# 3. Move all image files to the IMAGES folder\n",
    "for file in base_folder.iterdir():\n",
    "    if file.suffix.lower() in [\".png\", \".jpg\", \".jpeg\", \".gif\"]:\n",
    "        shutil.move(str(file), str(images_folder / file.name))\n",
    "        print(f\"Moved: {file.name}\")\n",
    "\n",
    "# 4. Display result\n",
    "print(\"\\nAll image files have been moved to:\", images_folder)\n",
    "print(\"Files now in IMAGES folder:\")\n",
    "for f in images_folder.iterdir():\n",
    "    print(\" -\", f.name)"
   ]
  },
  {
   "cell_type": "code",
   "execution_count": null,
   "id": "d7c0d997-a31d-4898-ab8a-da2b9ac02645",
   "metadata": {},
   "outputs": [],
   "source": []
  }
 ],
 "metadata": {
  "kernelspec": {
   "display_name": "Python 3 (ipykernel)",
   "language": "python",
   "name": "python3"
  },
  "language_info": {
   "codemirror_mode": {
    "name": "ipython",
    "version": 3
   },
   "file_extension": ".py",
   "mimetype": "text/x-python",
   "name": "python",
   "nbconvert_exporter": "python",
   "pygments_lexer": "ipython3",
   "version": "3.13.5"
  }
 },
 "nbformat": 4,
 "nbformat_minor": 5
}
