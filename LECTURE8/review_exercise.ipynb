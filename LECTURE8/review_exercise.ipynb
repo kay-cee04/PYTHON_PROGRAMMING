{
 "cells": [
  {
   "cell_type": "code",
   "execution_count": 3,
   "id": "81d20748-488f-42c9-824e-bdce302350a6",
   "metadata": {},
   "outputs": [
    {
     "name": "stdout",
     "output_type": "stream",
     "text": [
      "Folder ready: LECTURE8\\MY_FOLDER\n",
      "Files ready: FILE1.TXT , FILE2.TXT , IMAGE1.PNG\n",
      "Moved IMAGE1.PNG to LECTURE8\\MY_FOLDER\\IMAGES\n",
      "Deleted file: FILE1.TXT\n",
      "Deleted directory: LECTURE8\\MY_FOLDER\n"
     ]
    }
   ],
   "source": [
    "from pathlib import Path\n",
    "import shutil\n",
    "\n",
    "base_folder = Path(\"LECTURE8\") / \"MY_FOLDER\"\n",
    "\n",
    "# Files inside MY_FOLDER\n",
    "file1 = base_folder / \"FILE1.TXT\"\n",
    "file2 = base_folder / \"FILE2.TXT\"\n",
    "image1 = base_folder / \"IMAGE1.PNG\"\n",
    "\n",
    "# 1. Confirm MY_FOLDER exists (create if needed)\n",
    "base_folder.mkdir(parents=True, exist_ok=True)\n",
    "print(\"Folder ready:\", base_folder)\n",
    "\n",
    "# 2. Ensure the files exist (just in case)\n",
    "file1.touch(exist_ok=True)\n",
    "file2.touch(exist_ok=True)\n",
    "image1.touch(exist_ok=True)\n",
    "print(\"Files ready:\", file1.name, \",\", file2.name, \",\", image1.name)\n",
    "\n",
    "# 3. Move IMAGE1.PNG to a new directory called IMAGES inside MY_FOLDER\n",
    "images_folder = base_folder / \"IMAGES\"\n",
    "images_folder.mkdir(exist_ok=True)\n",
    "\n",
    "new_image_path = images_folder / image1.name\n",
    "shutil.move(str(image1), str(new_image_path))\n",
    "print(\"Moved\", image1.name, \"to\", images_folder)\n",
    "\n",
    "# 4. Delete FILE1.TXT\n",
    "file1.unlink(missing_ok=True)\n",
    "print(\"Deleted file:\", file1.name)\n",
    "\n",
    "# 5. Delete MY_FOLDER directory (including all contents)\n",
    "shutil.rmtree(base_folder)\n",
    "print(\"Deleted directory:\", base_folder)\n"
   ]
  },
  {
   "cell_type": "code",
   "execution_count": 6,
   "id": "d4226cdd-264b-4855-bc50-378156f41983",
   "metadata": {},
   "outputs": [
    {
     "name": "stdout",
     "output_type": "stream",
     "text": [
      "Deleted directory: LECTURE8/MY_FOLDER\n"
     ]
    }
   ],
   "source": [
    "import shutil, os\n",
    "\n",
    "base_folder = \"LECTURE8/MY_FOLDER\"\n",
    "shutil.rmtree(base_folder, ignore_errors=True)\n",
    "print(\"Deleted directory:\", base_folder)"
   ]
  },
  {
   "cell_type": "code",
   "execution_count": 8,
   "id": "40afcbe0-7cab-4965-a8a4-165aff3388d7",
   "metadata": {},
   "outputs": [
    {
     "name": "stdout",
     "output_type": "stream",
     "text": [
      "Before delete, contents: []\n"
     ]
    }
   ],
   "source": [
    "import os\n",
    "\n",
    "base_folder = r\"C:\\Users\\user\\OneDrive\\Documents\\PYTHON PROGRAMMING\\LECTURE8\\MY_FOLDER\"\n",
    "print(\"Before delete, contents:\", os.listdir(base_folder))"
   ]
  },
  {
   "cell_type": "code",
   "execution_count": 9,
   "id": "4484e087-aee6-4d67-8363-9d91f9fbdbff",
   "metadata": {},
   "outputs": [
    {
     "name": "stdout",
     "output_type": "stream",
     "text": [
      "C:\\Users\\user\\PYTHON PROGRAMMING\\LECTURE8\n"
     ]
    }
   ],
   "source": [
    "import os\n",
    "print(os.getcwd())"
   ]
  },
  {
   "cell_type": "code",
   "execution_count": 10,
   "id": "e6f358cc-c14d-4d1c-b1f7-6af5eb130f06",
   "metadata": {},
   "outputs": [
    {
     "name": "stdout",
     "output_type": "stream",
     "text": [
      "Folder ready: MY_FOLDER\n",
      "Files ready: FILE1.TXT FILE2.TXT IMAGE1.PNG\n",
      "Moved IMAGE1.PNG to MY_FOLDER\\IMAGES\n",
      "Deleted file: FILE1.TXT\n",
      "Deleted directory: MY_FOLDER\n"
     ]
    }
   ],
   "source": [
    "import shutil\n",
    "from pathlib import Path\n",
    "\n",
    "# Base folder (inside your current directory)\n",
    "base_folder = Path(\"MY_FOLDER\")\n",
    "\n",
    "# 1. Create the MY_FOLDER directory\n",
    "base_folder.mkdir(exist_ok=True)\n",
    "print(\"Folder ready:\", base_folder)\n",
    "\n",
    "# 2. Create files inside MY_FOLDER\n",
    "file1 = base_folder / \"FILE1.TXT\"\n",
    "file2 = base_folder / \"FILE2.TXT\"\n",
    "image1 = base_folder / \"IMAGE1.PNG\"\n",
    "\n",
    "file1.touch(exist_ok=True)\n",
    "file2.touch(exist_ok=True)\n",
    "image1.touch(exist_ok=True)\n",
    "print(\"Files ready:\", file1.name, file2.name, image1.name)\n",
    "\n",
    "# 3. Move IMAGE1.PNG to a new directory called IMAGES inside MY_FOLDER\n",
    "images_folder = base_folder / \"IMAGES\"\n",
    "images_folder.mkdir(exist_ok=True)\n",
    "\n",
    "new_image_path = images_folder / image1.name\n",
    "shutil.move(str(image1), str(new_image_path))\n",
    "print(\"Moved\", image1.name, \"to\", images_folder)\n",
    "\n",
    "# 4. Delete FILE1.TXT\n",
    "file1.unlink(missing_ok=True)\n",
    "print(\"Deleted file:\", file1.name)\n",
    "\n",
    "# 5. Delete MY_FOLDER directory (including all contents)\n",
    "shutil.rmtree(base_folder, ignore_errors=True)\n",
    "print(\"Deleted directory:\", base_folder)\n"
   ]
  },
  {
   "cell_type": "code",
   "execution_count": null,
   "id": "52e79069-fc60-43f4-b030-241a088e9286",
   "metadata": {},
   "outputs": [],
   "source": []
  }
 ],
 "metadata": {
  "kernelspec": {
   "display_name": "Python 3 (ipykernel)",
   "language": "python",
   "name": "python3"
  },
  "language_info": {
   "codemirror_mode": {
    "name": "ipython",
    "version": 3
   },
   "file_extension": ".py",
   "mimetype": "text/x-python",
   "name": "python",
   "nbconvert_exporter": "python",
   "pygments_lexer": "ipython3",
   "version": "3.13.5"
  }
 },
 "nbformat": 4,
 "nbformat_minor": 5
}
