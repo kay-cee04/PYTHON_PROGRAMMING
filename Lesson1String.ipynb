{
 "cells": [
  {
   "cell_type": "markdown",
   "id": "5e455f31-e861-418e-83d3-da958e18603d",
   "metadata": {},
   "source": [
    "# Review Question 1\n"
   ]
  },
  {
   "cell_type": "code",
   "execution_count": 3,
   "id": "3e36ce97-e72d-4a6b-91f0-00a09640c62c",
   "metadata": {},
   "outputs": [
    {
     "name": "stdout",
     "output_type": "stream",
     "text": [
      "Length of the string:  19\n"
     ]
    }
   ],
   "source": [
    "my_string = \"Python, Programming\"\n",
    "print(\"Length of the string: \", len(my_string))"
   ]
  },
  {
   "cell_type": "code",
   "execution_count": 5,
   "id": "7c75712e-7834-451c-9935-d794bed785f3",
   "metadata": {},
   "outputs": [
    {
     "name": "stdout",
     "output_type": "stream",
     "text": [
      "Concatenated String:  PythonProgramming\n"
     ]
    }
   ],
   "source": [
    "string1 = \"Python\"\n",
    "string2 = \"Programming\"\n",
    "magic_string = string1 + string2\n",
    "print(\"Concatenated String: \", magic_string)"
   ]
  },
  {
   "cell_type": "code",
   "execution_count": 6,
   "id": "3155acb6-b413-4c03-9cd3-faee462f731a",
   "metadata": {},
   "outputs": [
    {
     "name": "stdout",
     "output_type": "stream",
     "text": [
      "Concatenated with space: Python Programming\n"
     ]
    }
   ],
   "source": [
    "string3 = \"Python\"\n",
    "string4 = \"Programming\"\n",
    "magic_string = string3 + \" \" + string4\n",
    "print(\"Concatenated with space:\", magic_string)"
   ]
  },
  {
   "cell_type": "code",
   "execution_count": 14,
   "id": "8627d3f9-9a62-4aa1-b59a-e46806b165ce",
   "metadata": {},
   "outputs": [
    {
     "name": "stdout",
     "output_type": "stream",
     "text": [
      "Sliced string: fox\n"
     ]
    }
   ],
   "source": [
    "string1 = \"The quick brown fox jumped over the lazy dog. #1234567890!\"\n",
    "string2 = string1[16:19]  \n",
    "print(\"Sliced string:\", string2)"
   ]
  },
  {
   "cell_type": "markdown",
   "id": "129ec61b-cdf8-4b57-ada0-4833f3067b76",
   "metadata": {},
   "source": [
    "# Review Questions 2"
   ]
  },
  {
   "cell_type": "code",
   "execution_count": 21,
   "id": "b351b983-58ae-4cfa-8336-8620580d866a",
   "metadata": {},
   "outputs": [
    {
     "name": "stdout",
     "output_type": "stream",
     "text": [
      "Lowercase strings:\n",
      "animals\n",
      "badger\n",
      "honey bee\n",
      "honeybadger\n",
      "\n"
     ]
    }
   ],
   "source": [
    "words_to_lowercase = [\"Animals\", \"Badger\", \"Honey Bee\", \"Honeybadger\"]\n",
    "print(\"Lowercase strings:\")\n",
    "for s in words_to_lowercase:\n",
    "    print(s.lower())\n",
    "print()"
   ]
  },
  {
   "cell_type": "code",
   "execution_count": 22,
   "id": "5f59c890-b3f3-48a9-891d-d41148eb3c3b",
   "metadata": {},
   "outputs": [
    {
     "name": "stdout",
     "output_type": "stream",
     "text": [
      "UPPERCASE STRINGS: \n",
      "ANIMALS\n",
      "BADGER\n",
      "HONER BEE\n",
      "HONEYBADGER\n",
      "\n"
     ]
    }
   ],
   "source": [
    "words_to_uppercase = [\"Animals\", \"Badger\", \"Honer bee\", \"Honeybadger\"]\n",
    "print(\"UPPERCASE STRINGS: \")\n",
    "for s in words_to_uppercase:\n",
    "    print(s.upper())\n",
    "print()"
   ]
  },
  {
   "cell_type": "code",
   "execution_count": 23,
   "id": "0f36873f-719a-4f5e-a663-3d6fa73df722",
   "metadata": {},
   "outputs": [
    {
     "name": "stdout",
     "output_type": "stream",
     "text": [
      "Strings without whitespace:\n",
      "Filet Mignon\n",
      "Brisket\n",
      "\n"
     ]
    }
   ],
   "source": [
    "string1 = \" Filet Mignon\"\n",
    "string2 = \"Brisket \"\n",
    "print(\"Strings without whitespace:\")\n",
    "print(string1.strip())\n",
    "print(string2.strip())\n",
    "print()"
   ]
  },
  {
   "cell_type": "code",
   "execution_count": 25,
   "id": "128275d0-d850-4560-9651-0ceb039febcf",
   "metadata": {},
   "outputs": [
    {
     "name": "stdout",
     "output_type": "stream",
     "text": [
      "\"Becomes\" starts with \"be\": False\n",
      "\"becomes\" starts with \"be\": True\n"
     ]
    }
   ],
   "source": [
    "string1 = \"Becomes\"\n",
    "string2 = \"becomes\"\n",
    "result1 = string1.startswith(\"be\")\n",
    "result2 = string2.startswith(\"be\")\n",
    "print(f'\"{string1}\" starts with \"be\": {result1}')\n",
    "print(f'\"{string2}\" starts with \"be\": {result2}')"
   ]
  },
  {
   "cell_type": "code",
   "execution_count": 30,
   "id": "6597b326-2a58-4c04-b5d9-904b6682476e",
   "metadata": {},
   "outputs": [
    {
     "name": "stdout",
     "output_type": "stream",
     "text": [
      "Altered string1: \"beecomes\", starts with \"be\": True\n",
      "Altered string2: \"beecomes\", starts with \"be\": True\n"
     ]
    }
   ],
   "source": [
    "string1 = \"Becomes\"\n",
    "string2 = \"becomes\"\n",
    "\n",
    "altered_string1 = \"be{}\".format(string1[1:])  \n",
    "altered_string2 = \"be{}\".format(string2[1:])  \n",
    "\n",
    "result1 = altered_string1.startswith(\"be\")\n",
    "result2 = altered_string2.startswith(\"be\")\n",
    "\n",
    "print(f'Altered string1: \"{altered_string1}\", starts with \"be\": {result1}')\n",
    "print(f'Altered string2: \"{altered_string2}\", starts with \"be\": {result2}')\n"
   ]
  },
  {
   "cell_type": "code",
   "execution_count": null,
   "id": "5f5359f6-ca56-406e-af12-50b2645e480a",
   "metadata": {},
   "outputs": [],
   "source": []
  }
 ],
 "metadata": {
  "kernelspec": {
   "display_name": "Python 3 (ipykernel)",
   "language": "python",
   "name": "python3"
  },
  "language_info": {
   "codemirror_mode": {
    "name": "ipython",
    "version": 3
   },
   "file_extension": ".py",
   "mimetype": "text/x-python",
   "name": "python",
   "nbconvert_exporter": "python",
   "pygments_lexer": "ipython3",
   "version": "3.13.5"
  }
 },
 "nbformat": 4,
 "nbformat_minor": 5
}
