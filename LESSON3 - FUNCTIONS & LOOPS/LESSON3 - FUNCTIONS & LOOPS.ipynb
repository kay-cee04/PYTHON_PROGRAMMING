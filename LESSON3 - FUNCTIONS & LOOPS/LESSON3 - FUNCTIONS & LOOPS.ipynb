{
 "cells": [
  {
   "cell_type": "markdown",
   "id": "aa6ca472-5db5-491a-835d-e72e4dcc464f",
   "metadata": {},
   "source": [
    "# # REVIEW QUESTIONS 1"
   ]
  },
  {
   "cell_type": "code",
   "execution_count": 74,
   "id": "5845204c-abe9-4b8a-bc5f-71c29796d0a1",
   "metadata": {},
   "outputs": [
    {
     "name": "stdout",
     "output_type": "stream",
     "text": [
      "Result: \n",
      "8\n",
      "64\n",
      "216\n",
      "512\n",
      "1000\n"
     ]
    }
   ],
   "source": [
    "def cube(number):\n",
    "    return number ** 3\n",
    "    \n",
    "print(f\"Result: \")\n",
    "print(cube(2))  \n",
    "print(cube(4))  \n",
    "print(cube(6)) \n",
    "print(cube(8))\n",
    "print(cube(10))"
   ]
  },
  {
   "cell_type": "code",
   "execution_count": 75,
   "id": "ce14e856-9a3d-4e15-9737-7a8177609902",
   "metadata": {},
   "outputs": [
    {
     "name": "stdout",
     "output_type": "stream",
     "text": [
      "Result: \n",
      "Hello, Kaycee!\n"
     ]
    }
   ],
   "source": [
    "def greet (name):\n",
    "    print(f\"Result: \")\n",
    "    print (f\"Hello, {name}!\")\n",
    "\n",
    "greet(\"Kaycee\")"
   ]
  },
  {
   "cell_type": "markdown",
   "id": "aee605f4-c009-4cf6-8e19-9333eb4695bb",
   "metadata": {},
   "source": [
    "# CHALLENGE : CONVERT TEMPERATURE"
   ]
  },
  {
   "cell_type": "code",
   "execution_count": 76,
   "id": "5517f40b-6c04-4a14-b31a-76722446d2a3",
   "metadata": {},
   "outputs": [],
   "source": [
    "def convert_cel_to_far(celsius):\n",
    "    return (celsius * 9/5) + 32"
   ]
  },
  {
   "cell_type": "code",
   "execution_count": 77,
   "id": "10050a0c-9c6f-4e95-9434-1805cb2ab48d",
   "metadata": {},
   "outputs": [],
   "source": [
    "def convert_far_to_cel(fahrenheit):\n",
    "    return (fahrenheit - 32) * 5/9"
   ]
  },
  {
   "cell_type": "code",
   "execution_count": 79,
   "id": "1cb08571-5f24-4a82-be54-8f805de7f8ad",
   "metadata": {},
   "outputs": [
    {
     "name": "stdout",
     "output_type": "stream",
     "text": [
      "Result: \n"
     ]
    },
    {
     "name": "stdin",
     "output_type": "stream",
     "text": [
      "Enter a temperature in degrees F:  72\n"
     ]
    },
    {
     "name": "stdout",
     "output_type": "stream",
     "text": [
      "72.0 degrees F = 22.22 degrees C\n",
      "\n"
     ]
    },
    {
     "name": "stdin",
     "output_type": "stream",
     "text": [
      "Enter a temperature in degrees C:  37\n"
     ]
    },
    {
     "name": "stdout",
     "output_type": "stream",
     "text": [
      "37.0 degrees C = 98.60 degrees F\n"
     ]
    }
   ],
   "source": [
    "print(f\"Result: \")\n",
    "temp_f = float(input(\"Enter a temperature in degrees F: \"))\n",
    "temp_c = convert_far_to_cel(temp_f)\n",
    "print(f\"{temp_f} degrees F = {temp_c:.2f} degrees C\\n\")\n",
    "\n",
    "temp_c2 = float(input(\"Enter a temperature in degrees C: \"))\n",
    "temp_f2 = convert_cel_to_far(temp_c2)\n",
    "print(f\"{temp_c2} degrees C = {temp_f2:.2f} degrees F\")"
   ]
  },
  {
   "cell_type": "markdown",
   "id": "08598a6f-c1ef-4860-a35f-5a3d10b748d4",
   "metadata": {},
   "source": [
    "# REVIEW QUESTIONS 2"
   ]
  },
  {
   "cell_type": "code",
   "execution_count": 80,
   "id": "94322693-1e02-4609-8bde-f2a0761c87ad",
   "metadata": {},
   "outputs": [
    {
     "name": "stdout",
     "output_type": "stream",
     "text": [
      "Result: \n",
      "2\n",
      "3\n",
      "4\n",
      "5\n",
      "6\n",
      "7\n",
      "8\n",
      "9\n",
      "10\n"
     ]
    }
   ],
   "source": [
    "print(f\"Result: \")\n",
    "\n",
    "for n in range (2, 11):\n",
    "    print(n)\n",
    "    "
   ]
  },
  {
   "cell_type": "code",
   "execution_count": 81,
   "id": "259567ac-0f82-48c0-9ba5-0d20211ec527",
   "metadata": {},
   "outputs": [
    {
     "name": "stdout",
     "output_type": "stream",
     "text": [
      "Result: \n",
      "2\n",
      "3\n",
      "4\n",
      "5\n",
      "6\n",
      "7\n",
      "8\n",
      "9\n",
      "10\n"
     ]
    }
   ],
   "source": [
    "num = 2\n",
    "print(f\"Result: \")\n",
    "while num <= 10:\n",
    "    print(num)\n",
    "    num += 1"
   ]
  },
  {
   "cell_type": "code",
   "execution_count": 82,
   "id": "2c149f75-ab68-45bd-b40c-7e9c4486054f",
   "metadata": {},
   "outputs": [
    {
     "name": "stdout",
     "output_type": "stream",
     "text": [
      "Result: \n",
      "4\n",
      "8\n",
      "16\n"
     ]
    }
   ],
   "source": [
    "def doubles(num):\n",
    "    return num * 2\n",
    "print(f\"Result: \")\n",
    "\n",
    "value = 2\n",
    "for _ in range(3):\n",
    "    value = doubles(value)\n",
    "    print(value)\n"
   ]
  }
 ],
 "metadata": {
  "kernelspec": {
   "display_name": "Python 3 (ipykernel)",
   "language": "python",
   "name": "python3"
  },
  "language_info": {
   "codemirror_mode": {
    "name": "ipython",
    "version": 3
   },
   "file_extension": ".py",
   "mimetype": "text/x-python",
   "name": "python",
   "nbconvert_exporter": "python",
   "pygments_lexer": "ipython3",
   "version": "3.13.5"
  }
 },
 "nbformat": 4,
 "nbformat_minor": 5
}
