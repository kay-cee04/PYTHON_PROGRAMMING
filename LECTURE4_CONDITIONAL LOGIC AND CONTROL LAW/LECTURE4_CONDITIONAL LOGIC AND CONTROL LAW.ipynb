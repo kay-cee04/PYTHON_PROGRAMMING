{
 "cells": [
  {
   "cell_type": "markdown",
   "id": "29cf912c-f83a-4d55-b62d-9c57d9c19c9e",
   "metadata": {},
   "source": [
    "# Review Questions 1"
   ]
  },
  {
   "cell_type": "code",
   "execution_count": 2,
   "id": "5b9d7d12-6fa3-4005-b80a-bc6640107f03",
   "metadata": {},
   "outputs": [
    {
     "name": "stdout",
     "output_type": "stream",
     "text": [
      "Result for #1\n",
      "True\n",
      "False\n",
      "True\n",
      "True\n",
      "True\n",
      "False\n"
     ]
    }
   ],
   "source": [
    "print(\"Result for #1\")\n",
    "print(1 <= 1)\n",
    "print(1 != 1)\n",
    "print(1 != 2)\n",
    "print(\"good\" != \"bad\")\n",
    "print(\"good\" != \"Good\")\n",
    "print(123 == \"123\")"
   ]
  },
  {
   "cell_type": "code",
   "execution_count": 5,
   "id": "0e9bca94-0af7-43f1-b8bb-65d2bd4e0807",
   "metadata": {},
   "outputs": [
    {
     "name": "stdout",
     "output_type": "stream",
     "text": [
      "Result for #2\n",
      "True\n",
      "True\n",
      "True\n",
      "True\n"
     ]
    }
   ],
   "source": [
    "print(\"Result for #2\")\n",
    "print(3<4)\n",
    "print(10>5)\n",
    "print(\"jack\" != \"jill\")\n",
    "print(42 != \"42\")"
   ]
  },
  {
   "cell_type": "markdown",
   "id": "378af2df-f5a6-4a95-a0af-53853b257a1c",
   "metadata": {},
   "source": [
    "# Review Questions 2"
   ]
  },
  {
   "cell_type": "code",
   "execution_count": 12,
   "id": "d3106a2f-e585-415e-8ea5-ff28601a726e",
   "metadata": {},
   "outputs": [
    {
     "name": "stdout",
     "output_type": "stream",
     "text": [
      "Result for #1\n",
      "False\n",
      "False\n",
      "True\n",
      "False\n"
     ]
    }
   ],
   "source": [
    "    print(\"Result for #1\")\n",
    "    print((1 <= 1) and (1 != 1))\n",
    "    print(not (1 != 2))\n",
    "    print((\"good\" != \"bad\") or False)\n",
    "    print((\"good\" != \"Good\") and not (1==1))"
   ]
  },
  {
   "cell_type": "code",
   "execution_count": 18,
   "id": "de7e7bee-9a26-4c9d-a017-96dc7cd4aea0",
   "metadata": {},
   "outputs": [
    {
     "name": "stdout",
     "output_type": "stream",
     "text": [
      "Result for #2\n",
      "True\n",
      "True\n",
      "False\n"
     ]
    }
   ],
   "source": [
    "print(\"Result for #2\")\n",
    "print(False == (not True))\n",
    "print((True and False) == (True and False))\n",
    "print((not True) and (\"A\" == \"B\"))"
   ]
  },
  {
   "cell_type": "markdown",
   "id": "7633e023-68d3-492b-a618-6b6b0019457b",
   "metadata": {},
   "source": [
    "# Review Exercises"
   ]
  },
  {
   "cell_type": "code",
   "execution_count": 6,
   "id": "eb066003-5337-44fb-9dd0-5f867400d99b",
   "metadata": {},
   "outputs": [
    {
     "name": "stdin",
     "output_type": "stream",
     "text": [
      "Enter a word:  python\n"
     ]
    },
    {
     "name": "stdout",
     "output_type": "stream",
     "text": [
      "The length of the word is greater than 5 characters.\n"
     ]
    }
   ],
   "source": [
    "word = input (\"Enter a word: \")\n",
    "if len(word) < 5:\n",
    "    print(\"The length of the word is less than 5 characters.\")\n",
    "elif len(word) > 5:\n",
    "    print(\"The length of the word is greater than 5 characters.\")\n",
    "else:\n",
    "    print(\"The length of the word is equal to 5 characters.\")"
   ]
  },
  {
   "cell_type": "markdown",
   "id": "1fa15571-2882-4182-a01f-04c66f28c463",
   "metadata": {},
   "source": [
    "# Review Exercises"
   ]
  },
  {
   "cell_type": "code",
   "execution_count": 8,
   "id": "59d3efa7-f7fc-4c44-951f-d31e0893c3c5",
   "metadata": {},
   "outputs": [
    {
     "name": "stdin",
     "output_type": "stream",
     "text": [
      "Enter something (or 'Q' to quit):  Q\n"
     ]
    },
    {
     "name": "stdout",
     "output_type": "stream",
     "text": [
      "Quitting the program.\n"
     ]
    }
   ],
   "source": [
    "while True:\n",
    "    user_input = input(\"Enter something (or 'Q' to quit): \")\n",
    "    if user_input == \"Q\" or user_input == \"q\":\n",
    "        print(\"Quitting the program.\")\n",
    "        break\n",
    "    else:\n",
    "        print(f\"You entered: {user_input}\")\n"
   ]
  },
  {
   "cell_type": "code",
   "execution_count": 13,
   "id": "75fb8c22-971e-48a0-80b5-e5bc43269f11",
   "metadata": {},
   "outputs": [
    {
     "name": "stdout",
     "output_type": "stream",
     "text": [
      "1\n",
      "2\n",
      "4\n",
      "5\n",
      "7\n",
      "8\n",
      "10\n",
      "11\n",
      "13\n",
      "14\n",
      "16\n",
      "17\n",
      "19\n",
      "20\n",
      "22\n",
      "23\n",
      "25\n",
      "26\n",
      "28\n",
      "29\n",
      "31\n",
      "32\n",
      "34\n",
      "35\n",
      "37\n",
      "38\n",
      "40\n",
      "41\n",
      "43\n",
      "44\n",
      "46\n",
      "47\n",
      "49\n",
      "50\n"
     ]
    }
   ],
   "source": [
    "for n in range(1,51):\n",
    "    if n % 3 == 0:\n",
    "        continue\n",
    "    print(n)"
   ]
  },
  {
   "cell_type": "markdown",
   "id": "6468e7e2-c3d4-4513-93b6-288d8c774897",
   "metadata": {},
   "source": [
    "# REVIEW EXCERCISES"
   ]
  },
  {
   "cell_type": "code",
   "execution_count": 15,
   "id": "04d39b09-c0f2-46f3-bba2-1bff3ebdc10b",
   "metadata": {},
   "outputs": [
    {
     "name": "stdin",
     "output_type": "stream",
     "text": [
      "Please enter an integer:  yes\n"
     ]
    },
    {
     "name": "stdout",
     "output_type": "stream",
     "text": [
      "Try again. That was not a valid integer.\n"
     ]
    },
    {
     "name": "stdin",
     "output_type": "stream",
     "text": [
      "Please enter an integer:  12\n"
     ]
    },
    {
     "name": "stdout",
     "output_type": "stream",
     "text": [
      "You entered the integer: 12\n"
     ]
    }
   ],
   "source": [
    "while True:\n",
    "    user_input = input(\"Please enter an integer: \")\n",
    "    try:\n",
    "        num = int(user_input)\n",
    "        print(f\"You entered the integer: {num}\")\n",
    "        break\n",
    "    except ValueError:\n",
    "        print(\"Try again. That was not a valid integer.\")\n"
   ]
  },
  {
   "cell_type": "code",
   "execution_count": 18,
   "id": "317c12a5-4a3c-49fb-818e-e90a7546defe",
   "metadata": {},
   "outputs": [
    {
     "name": "stdin",
     "output_type": "stream",
     "text": [
      "Enter a string:  yes\n",
      "Enter an index number:  1\n"
     ]
    },
    {
     "name": "stdout",
     "output_type": "stream",
     "text": [
      "Character at index 1 is: e\n"
     ]
    }
   ],
   "source": [
    "text = input(\"Enter a string: \")\n",
    "n = int(input(\"Enter an index number: \"))\n",
    "if 0 <= n < len(text):\n",
    "    print(\"Character at index\", n, \"is:\", text[n])\n",
    "else:\n",
    "    print(\"Invalid index! The string length is\", len(text))"
   ]
  },
  {
   "cell_type": "markdown",
   "id": "5fa32faa-8705-411a-8131-47eb691d37dc",
   "metadata": {},
   "source": [
    "# REVIEW EXERCISES"
   ]
  },
  {
   "cell_type": "code",
   "execution_count": 19,
   "id": "c70c80a2-922a-45a9-931d-eae88be1ecca",
   "metadata": {},
   "outputs": [],
   "source": [
    "import random\n",
    "\n",
    "def roll():\n",
    "    return random.randint(1, 6)\n"
   ]
  },
  {
   "cell_type": "code",
   "execution_count": 32,
   "id": "3915df6a-c32a-4448-be6e-9ad1691978ce",
   "metadata": {},
   "outputs": [
    {
     "name": "stdout",
     "output_type": "stream",
     "text": [
      "Average number rolled after 10000 rolls:  3.4933\n"
     ]
    }
   ],
   "source": [
    "total = 0\n",
    "rolls = 10000\n",
    "\n",
    "for _ in range(rolls):\n",
    "    total += roll()\n",
    "\n",
    "average = total / rolls\n",
    "print(f\"Average number rolled after\" ,rolls, \"rolls: \",average)\n"
   ]
  },
  {
   "cell_type": "markdown",
   "id": "6f302ff0-76c4-4c4e-9899-5b9556a5b428",
   "metadata": {},
   "source": [
    "# CHALLENGE: SIMULATE AN ELECTION"
   ]
  },
  {
   "cell_type": "code",
   "execution_count": 24,
   "id": "f69b2542-437c-4448-95e0-f4b318cc365b",
   "metadata": {},
   "outputs": [
    {
     "name": "stdout",
     "output_type": "stream",
     "text": [
      "Chances of Winning in Each Region:\n",
      "Region 1 : Candidate A: 87 % | Candidate B: 13 %\n",
      "Region 2 : Candidate A: 65 % | Candidate B: 35 %\n",
      "Region 3 : Candidate A: 17 % | Candidate B: 83 %\n"
     ]
    }
   ],
   "source": [
    "region1 = 87\n",
    "region2 = 65\n",
    "region3 = 17\n",
    "\n",
    "print(\"Chances of Winning in Each Region:\")\n",
    "print(\"Region 1 : Candidate A:\", region1, \"% | Candidate B:\", 100 - region1, \"%\")\n",
    "print(\"Region 2 : Candidate A:\", region2, \"% | Candidate B:\", 100 - region2, \"%\")\n",
    "print(\"Region 3 : Candidate A:\", region3, \"% | Candidate B:\", 100 - region3, \"%\")\n"
   ]
  },
  {
   "cell_type": "code",
   "execution_count": null,
   "id": "7d1d270c-cee5-452f-8c78-4f90d5d7ee83",
   "metadata": {},
   "outputs": [],
   "source": []
  }
 ],
 "metadata": {
  "kernelspec": {
   "display_name": "Python 3 (ipykernel)",
   "language": "python",
   "name": "python3"
  },
  "language_info": {
   "codemirror_mode": {
    "name": "ipython",
    "version": 3
   },
   "file_extension": ".py",
   "mimetype": "text/x-python",
   "name": "python",
   "nbconvert_exporter": "python",
   "pygments_lexer": "ipython3",
   "version": "3.13.5"
  }
 },
 "nbformat": 4,
 "nbformat_minor": 5
}
