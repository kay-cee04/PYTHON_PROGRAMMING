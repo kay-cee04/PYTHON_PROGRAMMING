{
 "cells": [
  {
   "cell_type": "markdown",
   "id": "7e86dc73-ee1c-474b-9fd7-99aca5c9f4b9",
   "metadata": {},
   "source": [
    "# REVIEW EXERCISES 1"
   ]
  },
  {
   "cell_type": "code",
   "execution_count": 1,
   "id": "e077a9e0-bea4-4940-a158-2e603d21f0de",
   "metadata": {},
   "outputs": [
    {
     "name": "stdout",
     "output_type": "stream",
     "text": [
      "('FIRST', 'SECOND', 'THIRD')\n"
     ]
    }
   ],
   "source": [
    "Cardinal_Numbers = (\"FIRST\", \"SECOND\", \"THIRD\")\n",
    "print(Cardinal_Numbers)"
   ]
  },
  {
   "cell_type": "code",
   "execution_count": 2,
   "id": "07443505-734c-4f18-8539-9a314f36a31a",
   "metadata": {},
   "outputs": [
    {
     "name": "stdout",
     "output_type": "stream",
     "text": [
      "SECOND\n"
     ]
    }
   ],
   "source": [
    "print(Cardinal_Numbers[1])"
   ]
  },
  {
   "cell_type": "code",
   "execution_count": 3,
   "id": "73a15821-e7bd-48c3-b3e3-2a726dd8dd46",
   "metadata": {},
   "outputs": [
    {
     "name": "stdout",
     "output_type": "stream",
     "text": [
      "FIRST\n",
      "SECOND\n",
      "THIRD\n"
     ]
    }
   ],
   "source": [
    "position1, position2, position3 = Cardinal_Numbers\n",
    "print(position1)\n",
    "print(position2)\n",
    "print(position3)"
   ]
  },
  {
   "cell_type": "code",
   "execution_count": 4,
   "id": "71bcc428-69cb-4ee8-94e5-58841fc5e923",
   "metadata": {},
   "outputs": [
    {
     "name": "stdout",
     "output_type": "stream",
     "text": [
      "('K', 'a', 'y', 'c', 'e', 'e')\n"
     ]
    }
   ],
   "source": [
    "My_name = tuple(\"Kaycee\")\n",
    "print(My_name)"
   ]
  },
  {
   "cell_type": "code",
   "execution_count": 5,
   "id": "dcb7719b-6e14-4613-b8a4-d2ebb0f0dd55",
   "metadata": {},
   "outputs": [
    {
     "name": "stdout",
     "output_type": "stream",
     "text": [
      "False\n"
     ]
    }
   ],
   "source": [
    "print(\"x\" in My_name)"
   ]
  },
  {
   "cell_type": "code",
   "execution_count": 6,
   "id": "70247923-d4e1-4884-97c6-6a86008ec32f",
   "metadata": {},
   "outputs": [
    {
     "name": "stdout",
     "output_type": "stream",
     "text": [
      "('a', 'y', 'c', 'e', 'e')\n"
     ]
    }
   ],
   "source": [
    "First_Letter_in_My_Name = tuple(My_name[1::])\n",
    "print(First_Letter_in_My_Name)"
   ]
  },
  {
   "cell_type": "markdown",
   "id": "bbe9ea46-724a-4bbc-8c76-106d3653d2ed",
   "metadata": {},
   "source": [
    "# REVIEW EXERCISES 2"
   ]
  },
  {
   "cell_type": "code",
   "execution_count": 7,
   "id": "cdc02844-f359-4b7a-a983-f21b268a2432",
   "metadata": {},
   "outputs": [],
   "source": [
    "Food = [\"RICE\",\"BEANS\"]"
   ]
  },
  {
   "cell_type": "code",
   "execution_count": 8,
   "id": "eeeb4aa3-e06a-4ff6-9b9b-9a39e962be99",
   "metadata": {},
   "outputs": [],
   "source": [
    "Food.append(\"BROCOLLI\")"
   ]
  },
  {
   "cell_type": "code",
   "execution_count": 9,
   "id": "3dd5ad69-8359-4003-b1ca-964c8588307d",
   "metadata": {},
   "outputs": [],
   "source": [
    "Food.extend([\"BREAD\", \"PIZZA\"])"
   ]
  },
  {
   "cell_type": "code",
   "execution_count": 10,
   "id": "ce2d2965-3add-40db-b544-26308379077c",
   "metadata": {},
   "outputs": [
    {
     "name": "stdout",
     "output_type": "stream",
     "text": [
      "['RICE', 'BEANS']\n"
     ]
    }
   ],
   "source": [
    "print(Food[0:2])"
   ]
  },
  {
   "cell_type": "code",
   "execution_count": 11,
   "id": "d104c678-9756-4162-84d0-16fad21c4904",
   "metadata": {},
   "outputs": [
    {
     "name": "stdout",
     "output_type": "stream",
     "text": [
      "PIZZA\n"
     ]
    }
   ],
   "source": [
    "print(Food[len(Food)-1])"
   ]
  },
  {
   "cell_type": "code",
   "execution_count": 14,
   "id": "3b50cc38-5e58-4df9-b6ca-f30acfea90bc",
   "metadata": {},
   "outputs": [
    {
     "name": "stdout",
     "output_type": "stream",
     "text": [
      "['EGGS', 'FRUIT', 'ORANGE JUICE']\n"
     ]
    }
   ],
   "source": [
    "string_food = \"EGGS, FRUIT, ORANGE JUICE\"\n",
    "Breakfast = string_food.split(\", \")\n",
    "print(Breakfast)"
   ]
  },
  {
   "cell_type": "code",
   "execution_count": 15,
   "id": "09baba60-56bd-486b-90c1-103e5d4e6992",
   "metadata": {},
   "outputs": [
    {
     "name": "stdout",
     "output_type": "stream",
     "text": [
      "3\n"
     ]
    }
   ],
   "source": [
    "print(len(Breakfast))"
   ]
  },
  {
   "cell_type": "code",
   "execution_count": 16,
   "id": "30b507f9-003e-4853-9a2f-aab02faeb6e4",
   "metadata": {},
   "outputs": [
    {
     "name": "stdout",
     "output_type": "stream",
     "text": [
      "[4, 5, 12]\n"
     ]
    }
   ],
   "source": [
    "Lengths = [len(value) for value in Breakfast]\n",
    "print(Lengths)"
   ]
  },
  {
   "cell_type": "markdown",
   "id": "2e1db671-e012-434e-8b06-db4aea04e9f7",
   "metadata": {},
   "source": [
    "# REVIEW EXERCISES 3"
   ]
  },
  {
   "cell_type": "code",
   "execution_count": 18,
   "id": "dd98a6c8-3f51-4a12-ac78-6438ff15dbaf",
   "metadata": {},
   "outputs": [],
   "source": [
    "data = ((1,2),(3,4))"
   ]
  },
  {
   "cell_type": "code",
   "execution_count": 19,
   "id": "ea045091-e71f-44d9-afca-99ac3be034f8",
   "metadata": {},
   "outputs": [
    {
     "name": "stdout",
     "output_type": "stream",
     "text": [
      "Row = 1 sum = 3\n",
      "Row = 2 sum = 7\n"
     ]
    }
   ],
   "source": [
    "for n in range(len(data)):\n",
    "    sum=0\n",
    "    for value in data[n]:\n",
    "        sum += value\n",
    "    print(f\"Row = {n+1} sum = {sum}\")"
   ]
  },
  {
   "cell_type": "code",
   "execution_count": 20,
   "id": "976bac78-fbe5-42c0-a362-bb1286d08593",
   "metadata": {},
   "outputs": [
    {
     "name": "stdout",
     "output_type": "stream",
     "text": [
      "[2, 3, 4, 9, 1, 7]\n"
     ]
    }
   ],
   "source": [
    "num_list = [2,3,4,9,1,7]\n",
    "numbers = num_list[:]\n",
    "print(numbers)"
   ]
  },
  {
   "cell_type": "code",
   "execution_count": 21,
   "id": "c49f3515-6bf1-470e-af50-084628f137f5",
   "metadata": {},
   "outputs": [
    {
     "name": "stdout",
     "output_type": "stream",
     "text": [
      "[1, 2, 3, 4, 7, 9]\n"
     ]
    }
   ],
   "source": [
    "num_list.sort()\n",
    "print(num_list)"
   ]
  },
  {
   "cell_type": "markdown",
   "id": "dea8f7ba-fad5-4398-9751-d150f03d1277",
   "metadata": {},
   "source": [
    "# CHALLENGE: LIST OF LISTS"
   ]
  },
  {
   "cell_type": "code",
   "execution_count": 25,
   "id": "4000c0d2-8410-4cd7-bf68-ab0008bd0a13",
   "metadata": {},
   "outputs": [
    {
     "name": "stdout",
     "output_type": "stream",
     "text": [
      "[['California Institute of Technology', 2175, 37704], ['Harvard', 19627, 39849], ['Massachusetts Institute of Technology', 10566, 40732], ['Princeton', 7802, 37000], ['Rice', 5879, 35551], ['Stanford', 19535, 40569], ['Yale', 11701, 40500]]\n"
     ]
    }
   ],
   "source": [
    "universities = [\n",
    "                ['California Institute of Technology', 2175, 37704],\n",
    "                ['Harvard', 19627, 39849],\n",
    "                ['Massachusetts Institute of Technology', 10566, 40732],\n",
    "                ['Princeton', 7802, 37000],\n",
    "                ['Rice', 5879, 35551],\n",
    "                ['Stanford', 19535, 40569],\n",
    "                ['Yale', 11701, 40500]\n",
    "]\n",
    "\n",
    "print(universities)"
   ]
  },
  {
   "cell_type": "markdown",
   "id": "26b5ddb5-8c9c-428c-952d-a5dcf4050d71",
   "metadata": {},
   "source": [
    "# CHALLENGE: WAX POETIC"
   ]
  },
  {
   "cell_type": "code",
   "execution_count": 26,
   "id": "14740f9b-f74e-4ac3-8ace-0d35559f1309",
   "metadata": {},
   "outputs": [
    {
     "name": "stdout",
     "output_type": "stream",
     "text": [
      "['FOSSIL', 'HORSE', 'AARDVARK', 'JUDGE', 'CHEF', 'MANGO', 'EXTROVERT', 'GORILLA']\n",
      "['KICKS', 'JINGLES', 'BOUNCES', 'SLURPS', 'MEOWS', 'EXPLODES', 'CURDLES']\n",
      "['FURRY', 'BALDING', 'INCREDULOUS', 'FRAGRANT', 'EXUBERANT', 'GLISTENING']\n",
      "['AGAINST', 'AFTER', 'INTO', 'BENEATH', 'UPON', 'FOR', 'IN', 'LIKE', 'OVER', 'WITHIN']\n",
      "['CURIOUSLY', 'FURIOUSLY', 'SENSUOUSLYEXTRAVAGANTLY', 'TANTALIZINLY']\n"
     ]
    }
   ],
   "source": [
    "NOUNS = [\"FOSSIL\", \"HORSE\", \"AARDVARK\", \"JUDGE\", \"CHEF\", \"MANGO\",\"EXTROVERT\", \"GORILLA\"]\n",
    "VERBS = [\"KICKS\", \"JINGLES\", \"BOUNCES\", \"SLURPS\", \"MEOWS\", \"EXPLODES\", \"CURDLES\"]\n",
    "ADJECTIVES = [\"FURRY\", \"BALDING\", \"INCREDULOUS\", \"FRAGRANT\", \"EXUBERANT\", \"GLISTENING\"]\n",
    "PREPOSITIONS = [\"AGAINST\", \"AFTER\", \"INTO\", \"BENEATH\", \"UPON\", \"FOR\", \"IN\", \"LIKE\", \"OVER\", \"WITHIN\"]\n",
    "ADVERBS = [\"CURIOUSLY\", \"FURIOUSLY\", \"SENSUOUSLY\" \"EXTRAVAGANTLY\", \"TANTALIZINLY\"]\n",
    "\n",
    "print(NOUNS)\n",
    "print(VERBS)\n",
    "print(ADJECTIVES)\n",
    "print(PREPOSITIONS)\n",
    "print(ADVERBS)"
   ]
  },
  {
   "cell_type": "markdown",
   "id": "0e49d0eb-5955-4a9d-9920-f0b9f610cfe1",
   "metadata": {},
   "source": [
    "# REVIEW EXERCISES 4"
   ]
  },
  {
   "cell_type": "code",
   "execution_count": 27,
   "id": "35f95c9b-0068-419a-9d48-cde40d3a9e79",
   "metadata": {},
   "outputs": [],
   "source": [
    "captains = {}"
   ]
  },
  {
   "cell_type": "code",
   "execution_count": 28,
   "id": "5ff16717-16a2-4108-877a-69c376a7c92a",
   "metadata": {},
   "outputs": [
    {
     "name": "stdout",
     "output_type": "stream",
     "text": [
      "'Enterprise' : 'Picard'\n",
      "'Voyager' : 'Janeway'\n",
      "'Defiant' : 'Sisco'\n"
     ]
    }
   ],
   "source": [
    "captains = {}\n",
    "captains[\"Enterprise\"] = \"Picard\"\n",
    "captains[\"Voyager\"] = \"Janeway\"\n",
    "captains[\"Defiant\"] = \"Sisco\"\n",
    "\n",
    "for n in captains:\n",
    "        print(f\"'{n}' : '{captains[n]}'\")"
   ]
  },
  {
   "cell_type": "code",
   "execution_count": 29,
   "id": "f144fc97-0401-47cb-9dc7-31f9a6a20647",
   "metadata": {},
   "outputs": [
    {
     "name": "stdout",
     "output_type": "stream",
     "text": [
      "'Enterprise' : 'Picard'\n",
      "'Voyager' : 'Janeway'\n",
      "'Defiant' : 'Sisco'\n",
      "'Discovery' : 'Unknwon'\n"
     ]
    }
   ],
   "source": [
    "if not (\"Enterprise\" in captains): captains[\"Eterprise\"] = \"Unknown\"\n",
    "if not (\"Discovery\" in captains): captains[\"Discovery\"] = \"Unknwon\"\n",
    "\n",
    "for n in captains:\n",
    "        print(f\"'{n}' : '{captains[n]}'\")"
   ]
  },
  {
   "cell_type": "code",
   "execution_count": 30,
   "id": "8d267fc2-4659-408c-84ad-cc75c4b4fe17",
   "metadata": {},
   "outputs": [
    {
     "name": "stdout",
     "output_type": "stream",
     "text": [
      "The Enterprise is captained by Picard.\n",
      "The Voyager is captained by Janeway.\n",
      "The Defiant is captained by Sisco.\n",
      "The Discovery is captained by Unknwon.\n"
     ]
    }
   ],
   "source": [
    "for n in captains:\n",
    "        print(f\"The {n} is captained by {captains[n]}.\")"
   ]
  },
  {
   "cell_type": "code",
   "execution_count": 31,
   "id": "dfaaead9-b0fe-44a1-aa26-52dc3315175e",
   "metadata": {},
   "outputs": [
    {
     "name": "stdout",
     "output_type": "stream",
     "text": [
      "'Enterprise' : 'Picard'\n",
      "'Voyager' : 'Janeway'\n",
      "'Defiant' : 'Sisco'\n"
     ]
    }
   ],
   "source": [
    "del captains[\"Discovery\"]\n",
    "for n in captains: print(f\"'{n}' : '{captains[n]}'\")"
   ]
  },
  {
   "cell_type": "code",
   "execution_count": 32,
   "id": "20685fb9-b8e6-4483-a61d-67ea7f34687b",
   "metadata": {},
   "outputs": [
    {
     "name": "stdout",
     "output_type": "stream",
     "text": [
      "'Enterprise' : 'Picard'\n",
      "'Voyager' : 'Janeway'\n",
      "'Defiant' : 'Sisco'\n"
     ]
    }
   ],
   "source": [
    "key_pairs = ((\"Enterprise\", \"Picard\"),\n",
    "             (\"Voyager\", \"Janeway\"),\n",
    "             (\"Defiant\", \"Sisco\")\n",
    "            )\n",
    "captains_new = dict(key_pairs)\n",
    "for n in captains_new: print(f\"'{n}' : '{captains_new[n]}'\")"
   ]
  },
  {
   "cell_type": "markdown",
   "id": "77f303e4-4377-485a-a513-274c25565b1b",
   "metadata": {},
   "source": [
    "# CHALLENGE: CAPITAL CITY LOOP"
   ]
  },
  {
   "cell_type": "code",
   "execution_count": 34,
   "id": "97884c1d-cc55-4a41-8477-3ee9d5284ee3",
   "metadata": {},
   "outputs": [
    {
     "name": "stdout",
     "output_type": "stream",
     "text": [
      "'Alabama' : 'Montgomery'\n",
      "'Alaska' : 'Juneau'\n",
      "'Arizona' : 'Phoenix'\n",
      "'Arkansas' : 'Little Rock'\n",
      "'California' : 'Sacramento'\n",
      "'Colorado' : 'Denver'\n",
      "'Connecticut' : 'Hartford'\n",
      "'Delaware' : 'Dover'\n",
      "'Florida' : 'Tallahassee'\n",
      "'Georgia' : 'Atlanta'\n"
     ]
    }
   ],
   "source": [
    "capitals_dict={\n",
    "    'Alabama': 'Montgomery',\n",
    "    'Alaska': 'Juneau',\n",
    "     'Arizona': 'Phoenix',\n",
    "    'Arkansas': 'Little Rock',\n",
    "    'California': 'Sacramento',\n",
    "    'Colorado': 'Denver',\n",
    "    'Connecticut': 'Hartford',\n",
    "    'Delaware': 'Dover',\n",
    "    'Florida': 'Tallahassee',\n",
    "    'Georgia': 'Atlanta',\n",
    "}\n",
    "\n",
    "for n in capitals_dict: \n",
    "    print(f\"'{n}' : '{capitals_dict[n]}'\")"
   ]
  },
  {
   "cell_type": "code",
   "execution_count": null,
   "id": "bdfca50f-51eb-4f15-b572-dfb9dad4ce63",
   "metadata": {},
   "outputs": [],
   "source": []
  }
 ],
 "metadata": {
  "kernelspec": {
   "display_name": "Python 3 (ipykernel)",
   "language": "python",
   "name": "python3"
  },
  "language_info": {
   "codemirror_mode": {
    "name": "ipython",
    "version": 3
   },
   "file_extension": ".py",
   "mimetype": "text/x-python",
   "name": "python",
   "nbconvert_exporter": "python",
   "pygments_lexer": "ipython3",
   "version": "3.13.5"
  }
 },
 "nbformat": 4,
 "nbformat_minor": 5
}
