{
 "cells": [
  {
   "cell_type": "markdown",
   "id": "c57c493e-c151-4876-b145-316b5457d8a8",
   "metadata": {},
   "source": [
    "# Review Questions 1"
   ]
  },
  {
   "cell_type": "code",
   "execution_count": 6,
   "id": "f2b7b804-465b-477c-ad20-5a3fbc3909bf",
   "metadata": {},
   "outputs": [
    {
     "name": "stdout",
     "output_type": "stream",
     "text": [
      "Without underscores:  (25, 0, 0)\n",
      "With underscores:  25000000\n"
     ]
    }
   ],
   "source": [
    "num1 = 25,000,000\n",
    "num2 = 25_000_000\n",
    "print(\"Without underscores: \",num1)\n",
    "print(\"With underscores: \",num2)"
   ]
  },
  {
   "cell_type": "code",
   "execution_count": 7,
   "id": "66005f35-3ed8-44e8-a48f-a2baa484dd04",
   "metadata": {},
   "outputs": [
    {
     "name": "stdout",
     "output_type": "stream",
     "text": [
      "Result =  175000.0\n"
     ]
    }
   ],
   "source": [
    "num = 1.75 * 10**5\n",
    "print(\"Result = \", num)"
   ]
  },
  {
   "cell_type": "code",
   "execution_count": 8,
   "id": "566e6233-6238-46f7-b103-6ef44b866d9a",
   "metadata": {},
   "outputs": [
    {
     "name": "stdout",
     "output_type": "stream",
     "text": [
      "The smallest number that returns infinite is  2e(308):  inf\n"
     ]
    }
   ],
   "source": [
    "num = 2e308\n",
    "print(\"The smallest number that returns infinite is \", \"2e(308): \", num)"
   ]
  },
  {
   "cell_type": "markdown",
   "id": "c2f1a4ea-9d04-4d97-b072-a6680691e949",
   "metadata": {},
   "source": [
    "# Review Questions 2"
   ]
  },
  {
   "cell_type": "code",
   "execution_count": 9,
   "id": "ce0d0442-473d-4f05-9617-f97b32624fe6",
   "metadata": {},
   "outputs": [
    {
     "name": "stdin",
     "output_type": "stream",
     "text": [
      "Enter a base:  1.2\n",
      "Enter an exponent:  3\n"
     ]
    },
    {
     "name": "stdout",
     "output_type": "stream",
     "text": [
      "1.2 to the 3.0 = 1.7279999999999998\n"
     ]
    }
   ],
   "source": [
    "base = float(input(\"Enter a base: \"))\n",
    "exponent = float(input(\"Enter an exponent: \"))\n",
    "\n",
    "result = base ** exponent\n",
    "\n",
    "print(f\"{base} to the {exponent} = {result}\")"
   ]
  },
  {
   "cell_type": "markdown",
   "id": "82db909e-1e46-4d96-a99f-87423c006b13",
   "metadata": {},
   "source": [
    "# Review Questions 3"
   ]
  },
  {
   "cell_type": "code",
   "execution_count": 15,
   "id": "f16a29d5-2a34-475e-88a5-65bfe7074d53",
   "metadata": {},
   "outputs": [
    {
     "name": "stdin",
     "output_type": "stream",
     "text": [
      "Enter a number:  5.432\n"
     ]
    },
    {
     "name": "stdout",
     "output_type": "stream",
     "text": [
      "5.432 rounded to 2 decimal places is 5.43\n"
     ]
    }
   ],
   "source": [
    "num = input(\"Enter a number: \")\n",
    "rounded = round(float(num), 2)\n",
    "print(f\"{num} rounded to 2 decimal places is\", rounded)"
   ]
  },
  {
   "cell_type": "code",
   "execution_count": 18,
   "id": "b97a4c57-a880-4186-9e07-325489d4a612",
   "metadata": {},
   "outputs": [
    {
     "name": "stdin",
     "output_type": "stream",
     "text": [
      "Enter a number:  -10\n"
     ]
    },
    {
     "name": "stdout",
     "output_type": "stream",
     "text": [
      "The absolute value of-10 is 10.0\n"
     ]
    }
   ],
   "source": [
    "num = input(\"Enter a number: \")\n",
    "\n",
    "abs_num = abs(float(num))\n",
    "\n",
    "print(\"The absolute value of\" + num + \" is\" ,abs_num)"
   ]
  },
  {
   "cell_type": "markdown",
   "id": "7546c519-7b77-4972-b751-234f1357a584",
   "metadata": {},
   "source": [
    "# Review Questions 4"
   ]
  },
  {
   "cell_type": "code",
   "execution_count": 24,
   "id": "68efa4bf-fc8f-4872-8fba-1e7ecea2a731",
   "metadata": {},
   "outputs": [
    {
     "name": "stdin",
     "output_type": "stream",
     "text": [
      "Enter a number:  1.5\n",
      "Enter another number:  1.0\n"
     ]
    },
    {
     "name": "stdout",
     "output_type": "stream",
     "text": [
      "The difference between 1.5 and 1.0 is an integer?  False !\n"
     ]
    }
   ],
   "source": [
    "num =  input(\"Enter a number: \")\n",
    "num1 = input(\"Enter another number: \")\n",
    "\n",
    "difference = float(num) - float(num1)\n",
    "\n",
    "print(\"The difference between \" + num + \" and \" + num1 + \" is an integer? \", difference.is_integer(), \"!\")"
   ]
  },
  {
   "cell_type": "markdown",
   "id": "b621dcc5-df3a-4f51-8eb1-2fa23d3bfb18",
   "metadata": {},
   "source": [
    "# Review Question 5"
   ]
  },
  {
   "cell_type": "code",
   "execution_count": 26,
   "id": "c5aadcb1-a984-4925-abb7-5f1b0b198ae1",
   "metadata": {},
   "outputs": [
    {
     "name": "stdout",
     "output_type": "stream",
     "text": [
      "Result: 1.147\n"
     ]
    }
   ],
   "source": [
    "result = 3 ** .125\n",
    "print(f\"Result: {result:.3f}\")"
   ]
  },
  {
   "cell_type": "code",
   "execution_count": 27,
   "id": "b480b9e3-f515-4928-a682-946826dafe5b",
   "metadata": {},
   "outputs": [
    {
     "name": "stdout",
     "output_type": "stream",
     "text": [
      "Amount: $150,000.00\n"
     ]
    }
   ],
   "source": [
    "amount = 150000\n",
    "print(f\"Amount: ${amount:,.2f}\")"
   ]
  },
  {
   "cell_type": "code",
   "execution_count": 28,
   "id": "9738fba1-a998-4317-bfeb-f60bce54752c",
   "metadata": {},
   "outputs": [
    {
     "name": "stdout",
     "output_type": "stream",
     "text": [
      "Percentage: 20%\n"
     ]
    }
   ],
   "source": [
    "result = 2 / 10\n",
    "print(f\"Percentage: {result:.0%}\")"
   ]
  }
 ],
 "metadata": {
  "kernelspec": {
   "display_name": "Python 3 (ipykernel)",
   "language": "python",
   "name": "python3"
  },
  "language_info": {
   "codemirror_mode": {
    "name": "ipython",
    "version": 3
   },
   "file_extension": ".py",
   "mimetype": "text/x-python",
   "name": "python",
   "nbconvert_exporter": "python",
   "pygments_lexer": "ipython3",
   "version": "3.13.5"
  }
 },
 "nbformat": 4,
 "nbformat_minor": 5
}
