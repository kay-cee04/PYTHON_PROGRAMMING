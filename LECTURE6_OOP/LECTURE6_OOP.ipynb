{
 "cells": [
  {
   "cell_type": "markdown",
   "id": "55307c11-c326-4601-8c92-a4f76cd71341",
   "metadata": {},
   "source": [
    "# Review Exercises 1"
   ]
  },
  {
   "cell_type": "code",
   "execution_count": 1,
   "id": "2098f9f5-29ef-41ed-9740-49adf71e96df",
   "metadata": {},
   "outputs": [
    {
     "name": "stdout",
     "output_type": "stream",
     "text": [
      "Philo's coat is brown.\n"
     ]
    }
   ],
   "source": [
    "class Dog:\n",
    "    def __init__(self, name, age, coat_color):\n",
    "        self.name = name\n",
    "        self.age = age\n",
    "        self.coat_color = coat_color\n",
    "\n",
    "philo = Dog(\"Philo\", 5, \"brown\")\n",
    "print(f\"{philo.name}'s coat is {philo.coat_color}.\")"
   ]
  },
  {
   "cell_type": "code",
   "execution_count": 2,
   "id": "e09b7b63-b98d-400d-b0c3-98be2507a7c7",
   "metadata": {},
   "outputs": [
    {
     "name": "stdout",
     "output_type": "stream",
     "text": [
      "The blue car has 20,000 miles.\n",
      "The red car has 30,000 miles.\n"
     ]
    }
   ],
   "source": [
    "class Car:\n",
    "    def __init__(self, color, mileage):\n",
    "        self.color = color\n",
    "        self.mileage = mileage\n",
    "\n",
    "blue_car = Car(\"blue\", 20000)\n",
    "red_car = Car(\"red\", 30000)\n",
    "\n",
    "print(f\"The {blue_car.color} car has {blue_car.mileage:,} miles.\")\n",
    "print(f\"The {red_car.color} car has {red_car.mileage:,} miles.\")"
   ]
  },
  {
   "cell_type": "code",
   "execution_count": 4,
   "id": "c2261284-8863-4ecc-81c2-ec9078df9337",
   "metadata": {},
   "outputs": [
    {
     "name": "stdout",
     "output_type": "stream",
     "text": [
      "The car's mileage is now 100 miles.\n"
     ]
    }
   ],
   "source": [
    "class Car:\n",
    "    def __init__(self, mileage=0):\n",
    "        self.mileage = mileage\n",
    "    \n",
    "    def drive(self, miles):\n",
    "        self.mileage += miles\n",
    "\n",
    "my_car = Car(0)\n",
    "my_car.drive(100)\n",
    "print(f\"The car's mileage is now {my_car.mileage} miles.\")"
   ]
  },
  {
   "cell_type": "markdown",
   "id": "b95da45f-edcd-4590-8241-d8026c978f6c",
   "metadata": {},
   "source": [
    "# Review Exercises 2"
   ]
  },
  {
   "cell_type": "code",
   "execution_count": 5,
   "id": "80c42a8e-88ce-4e5b-ac77-e8495f7b1bf5",
   "metadata": {},
   "outputs": [
    {
     "name": "stdout",
     "output_type": "stream",
     "text": [
      "Buddy says Bark\n",
      "Buddy says Woof\n"
     ]
    }
   ],
   "source": [
    "class Dog:\n",
    "    species = \"Canis familiaris\"\n",
    "\n",
    "    def __init__(self, name, age):\n",
    "        self.name = name\n",
    "        self.age = age\n",
    "\n",
    "    def __str__(self):\n",
    "        return f\"{self.name} is {self.age} years old\"\n",
    "\n",
    "    def speak(self, sound):\n",
    "        return f\"{self.name} says {sound}\"\n",
    "\n",
    "class GoldenRetriever(Dog):\n",
    "    def speak(self, sound=\"Bark\"):\n",
    "        return f\"{self.name} says {sound}\"\n",
    "\n",
    "buddy = GoldenRetriever(\"Buddy\", 3)\n",
    "print(buddy.speak())  \n",
    "print(buddy.speak(\"Woof\")) "
   ]
  },
  {
   "cell_type": "code",
   "execution_count": 6,
   "id": "ea7c317b-97f0-46c8-a404-2613f28f9f2c",
   "metadata": {},
   "outputs": [
    {
     "name": "stdout",
     "output_type": "stream",
     "text": [
      "Area of square with side length 4: 16\n"
     ]
    }
   ],
   "source": [
    "class Rectangle:\n",
    "    def __init__(self, length, width):\n",
    "        self.length = length\n",
    "        self.width = width\n",
    "    \n",
    "    def area(self):\n",
    "        return self.length * self.width\n",
    "        \n",
    "class Square(Rectangle):\n",
    "    def __init__(self, side_length):\n",
    "        super().__init__(side_length, side_length)\n",
    "\n",
    "my_square = Square(4)\n",
    "print(f\"Area of square with side length 4: {my_square.area()}\")"
   ]
  },
  {
   "cell_type": "markdown",
   "id": "f830b630-170d-4af5-a7c9-c8e3bdb51176",
   "metadata": {},
   "source": [
    "# CHALLENGE: MODEL A FARM"
   ]
  },
  {
   "cell_type": "code",
   "execution_count": 16,
   "id": "acc81f9c-f5f6-4191-af8c-d5b3a3bedb3c",
   "metadata": {},
   "outputs": [
    {
     "name": "stdout",
     "output_type": "stream",
     "text": [
      "Buddy is a 3-year-old Golden Retriever.\n",
      "Buddy is eating.\n",
      "Buddy the Golden Retriever is barking loudly.\n",
      "\n",
      "Whiskers is a 2-year-old tabby cat.\n",
      "Whiskers is sleeping.\n",
      "Whiskers the tabby cat is meowing softly.\n",
      "\n",
      "Tweety is a 1-year-old bird with 12 cm wingspan.\n",
      "Tweety is eating.\n",
      "Tweety spreads its 12 cm wings and flies away!\n"
     ]
    }
   ],
   "source": [
    "class Animal:\n",
    "    def __init__(self, name, age):\n",
    "        self.name = name\n",
    "        self.age = age\n",
    "    \n",
    "    def eat(self):\n",
    "        print(f\"{self.name} is eating.\")\n",
    "    \n",
    "    def sleep(self):\n",
    "        print(f\"{self.name} is sleeping.\")\n",
    "\n",
    "class Dog(Animal):\n",
    "    def __init__(self, name, age, breed):\n",
    "        super().__init__(name, age)\n",
    "        self.breed = breed\n",
    "    \n",
    "    def bark(self):\n",
    "        print(f\"{self.name} the {self.breed} is barking loudly.\")\n",
    "\n",
    "class Cat(Animal):\n",
    "    def __init__(self, name, age, color):\n",
    "        super().__init__(name, age)\n",
    "        self.color = color\n",
    "    \n",
    "    def meow(self):\n",
    "        print(f\"{self.name} the {self.color} cat is meowing softly.\")\n",
    "\n",
    "class Bird(Animal):\n",
    "    def __init__(self, name, age, wing_span):\n",
    "        super().__init__(name, age)\n",
    "        self.wing_span = wing_span\n",
    "    \n",
    "    def fly(self):\n",
    "        print(f\"{self.name} spreads its {self.wing_span} cm wings and flies away!\")\n",
    "\n",
    "dog = Dog(\"Buddy\", 3, \"Golden Retriever\")\n",
    "cat = Cat(\"Whiskers\", 2, \"tabby\")\n",
    "bird = Bird(\"Tweety\", 1, 12)\n",
    "\n",
    "print(f\"{dog.name} is a {dog.age}-year-old {dog.breed}.\")\n",
    "dog.eat()\n",
    "dog.bark()\n",
    "\n",
    "print(f\"\\n{cat.name} is a {cat.age}-year-old {cat.color} cat.\")\n",
    "cat.sleep()\n",
    "cat.meow()\n",
    "\n",
    "print(f\"\\n{bird.name} is a {bird.age}-year-old bird with {bird.wing_span} cm wingspan.\")\n",
    "bird.eat()\n",
    "bird.fly()"
   ]
  }
 ],
 "metadata": {
  "kernelspec": {
   "display_name": "Python 3 (ipykernel)",
   "language": "python",
   "name": "python3"
  },
  "language_info": {
   "codemirror_mode": {
    "name": "ipython",
    "version": 3
   },
   "file_extension": ".py",
   "mimetype": "text/x-python",
   "name": "python",
   "nbconvert_exporter": "python",
   "pygments_lexer": "ipython3",
   "version": "3.13.5"
  }
 },
 "nbformat": 4,
 "nbformat_minor": 5
}
