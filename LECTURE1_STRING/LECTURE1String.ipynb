{
 "cells": [
  {
   "cell_type": "markdown",
   "id": "d21da3d3-425a-4070-86cc-3f0f7ab3cc34",
   "metadata": {},
   "source": [
    "# Review Questions 1"
   ]
  },
  {
   "cell_type": "code",
   "execution_count": 8,
   "id": "7d525bff-3287-42ab-8461-bb632d838021",
   "metadata": {},
   "outputs": [
    {
     "name": "stdout",
     "output_type": "stream",
     "text": [
      "Length of the string:  19\n"
     ]
    }
   ],
   "source": [
    "my_string = \"Python, Programming\"\n",
    "print(\"Length of the string: \", len(my_string))"
   ]
  },
  {
   "cell_type": "code",
   "execution_count": 9,
   "id": "6f113f41-4f00-46d6-b457-ed99bb696210",
   "metadata": {},
   "outputs": [
    {
     "name": "stdout",
     "output_type": "stream",
     "text": [
      "Concatenated String:  PythonProgramming\n"
     ]
    }
   ],
   "source": [
    "string1 = \"Python\"\n",
    "string2 = \"Programming\"\n",
    "magic_string = string1 + string2\n",
    "print(\"Concatenated String: \", magic_string)"
   ]
  },
  {
   "cell_type": "code",
   "execution_count": 10,
   "id": "e81bf832-ccb2-49ca-ba94-48990db421f6",
   "metadata": {},
   "outputs": [
    {
     "name": "stdout",
     "output_type": "stream",
     "text": [
      "Concatenated with space: Python Programming\n"
     ]
    }
   ],
   "source": [
    "string3 = \"Python\"\n",
    "string4 = \"Programming\"\n",
    "magic_string = string3 + \" \" + string4\n",
    "print(\"Concatenated with space:\", magic_string)"
   ]
  },
  {
   "cell_type": "code",
   "execution_count": 11,
   "id": "f461cc4c-ffb3-48b9-b91b-34bff48f4f39",
   "metadata": {},
   "outputs": [
    {
     "name": "stdout",
     "output_type": "stream",
     "text": [
      "Sliced string: fox\n"
     ]
    }
   ],
   "source": [
    "string1 = \"The quick brown fox jumped over the lazy dog. #1234567890!\"\n",
    "string2 = string1[16:19]  \n",
    "print(\"Sliced string:\", string2)"
   ]
  },
  {
   "cell_type": "markdown",
   "id": "584aa51e-1dd0-4d4c-8761-6109c841b52d",
   "metadata": {},
   "source": [
    "# Review Questions 2"
   ]
  },
  {
   "cell_type": "code",
   "execution_count": 3,
   "id": "438e4267-c29f-437d-a445-7cc9fb200906",
   "metadata": {},
   "outputs": [
    {
     "name": "stdout",
     "output_type": "stream",
     "text": [
      "Lowercase strings:\n",
      "animals\n",
      "badger\n",
      "honey bee\n",
      "honeybadger\n",
      "\n"
     ]
    }
   ],
   "source": [
    "words_to_lowercase = [\"Animals\", \"Badger\", \"Honey Bee\", \"Honeybadger\"]\n",
    "print(\"Lowercase strings:\")\n",
    "for s in words_to_lowercase:\n",
    "    print(s.lower())\n",
    "print()"
   ]
  },
  {
   "cell_type": "code",
   "execution_count": 4,
   "id": "a75286e4-4ceb-4898-bdb2-4d4cf99717f7",
   "metadata": {},
   "outputs": [
    {
     "name": "stdout",
     "output_type": "stream",
     "text": [
      "UPPERCASE STRINGS: \n",
      "ANIMALS\n",
      "BADGER\n",
      "HONER BEE\n",
      "HONEYBADGER\n",
      "\n"
     ]
    }
   ],
   "source": [
    "words_to_uppercase = [\"Animals\", \"Badger\", \"Honer bee\", \"Honeybadger\"]\n",
    "print(\"UPPERCASE STRINGS: \")\n",
    "for s in words_to_uppercase:\n",
    "    print(s.upper())\n",
    "print()"
   ]
  },
  {
   "cell_type": "code",
   "execution_count": 5,
   "id": "57e32c30-b826-4616-bb91-8c0709e267c6",
   "metadata": {},
   "outputs": [
    {
     "name": "stdout",
     "output_type": "stream",
     "text": [
      "Strings without whitespace:\n",
      "Filet Mignon\n",
      "Brisket\n",
      "\n"
     ]
    }
   ],
   "source": [
    "string1 = \" Filet Mignon\"\n",
    "string2 = \"Brisket \"\n",
    "print(\"Strings without whitespace:\")\n",
    "print(string1.strip())\n",
    "print(string2.strip())\n",
    "print()"
   ]
  },
  {
   "cell_type": "code",
   "execution_count": 6,
   "id": "20be4b0f-c8a0-4437-a81e-d65bc960f8bc",
   "metadata": {},
   "outputs": [
    {
     "name": "stdout",
     "output_type": "stream",
     "text": [
      "\"Becomes\" starts with \"be\": False\n",
      "\"becomes\" starts with \"be\": True\n"
     ]
    }
   ],
   "source": [
    "string1 = \"Becomes\"\n",
    "string2 = \"becomes\"\n",
    "result1 = string1.startswith(\"be\")\n",
    "result2 = string2.startswith(\"be\")\n",
    "print(f'\"{string1}\" starts with \"be\": {result1}')\n",
    "print(f'\"{string2}\" starts with \"be\": {result2}')"
   ]
  },
  {
   "cell_type": "code",
   "execution_count": 7,
   "id": "23d43590-8873-4862-bef6-8d6920b3f7f6",
   "metadata": {},
   "outputs": [
    {
     "name": "stdout",
     "output_type": "stream",
     "text": [
      "Altered string1: \"beecomes\", starts with \"be\": True\n",
      "Altered string2: \"beecomes\", starts with \"be\": True\n"
     ]
    }
   ],
   "source": [
    "string1 = \"Becomes\"\n",
    "string2 = \"becomes\"\n",
    "\n",
    "altered_string1 = \"be{}\".format(string1[1:])  \n",
    "altered_string2 = \"be{}\".format(string2[1:])  \n",
    "\n",
    "result1 = altered_string1.startswith(\"be\")\n",
    "result2 = altered_string2.startswith(\"be\")\n",
    "\n",
    "print(f'Altered string1: \"{altered_string1}\", starts with \"be\": {result1}')\n",
    "print(f'Altered string2: \"{altered_string2}\", starts with \"be\": {result2}')\n"
   ]
  },
  {
   "cell_type": "markdown",
   "id": "22a4408a-f617-4f99-bf48-90dfc0a218a7",
   "metadata": {},
   "source": [
    "# Review Questions 3"
   ]
  },
  {
   "cell_type": "code",
   "execution_count": 2,
   "id": "f09caffa-f907-474a-9e37-523ee4dfe8d5",
   "metadata": {},
   "outputs": [
    {
     "name": "stdin",
     "output_type": "stream",
     "text": [
      "Hello. Do you want to learn Python Programming! yes\n"
     ]
    },
    {
     "name": "stdout",
     "output_type": "stream",
     "text": [
      "You said:  yes\n"
     ]
    }
   ],
   "source": [
    "prompt = \"Hello. Do you want to learn Python Programming!\"\n",
    "user_input = input (prompt)\n",
    "print (\"You said: \", user_input)"
   ]
  },
  {
   "cell_type": "code",
   "execution_count": 16,
   "id": "d62e3882-a48f-454b-82fc-8da8c6e242df",
   "metadata": {},
   "outputs": [
    {
     "name": "stdin",
     "output_type": "stream",
     "text": [
      "Hello. Do you want to learn Python Programming! no\n"
     ]
    },
    {
     "name": "stdout",
     "output_type": "stream",
     "text": [
      "You said:  no\n"
     ]
    }
   ],
   "source": [
    "prompt = \"Hello. Do you want to learn Python Programming!\"\n",
    "user_input = input (prompt)\n",
    "print (\"You said: \", user_input.lower())"
   ]
  },
  {
   "cell_type": "code",
   "execution_count": 19,
   "id": "3ff8a720-cc63-434e-a200-175cdb9ed025",
   "metadata": {},
   "outputs": [
    {
     "name": "stdin",
     "output_type": "stream",
     "text": [
      "Hello. What is your most chosen programming language? python\n"
     ]
    },
    {
     "name": "stdout",
     "output_type": "stream",
     "text": [
      "You said:  6\n"
     ]
    }
   ],
   "source": [
    "prompt = \"Hello. What is your most chosen programming language?\"\n",
    "user_input = input (prompt)\n",
    "print (\"You said: \", len(user_input))"
   ]
  },
  {
   "cell_type": "markdown",
   "id": "82f1d39b-3d7b-404c-9bbe-2e478e137b69",
   "metadata": {},
   "source": [
    "# Review Questions 4"
   ]
  },
  {
   "cell_type": "code",
   "execution_count": 21,
   "id": "819d9f4e-185e-481d-b977-288714c4daaf",
   "metadata": {},
   "outputs": [
    {
     "name": "stdin",
     "output_type": "stream",
     "text": [
      "Tell me your name:  kaycee\n"
     ]
    },
    {
     "name": "stdout",
     "output_type": "stream",
     "text": [
      "The firt letter of your name is: K\n"
     ]
    }
   ],
   "source": [
    "name = input(\"Tell me your name: \")\n",
    "first_letter = name[0].upper() if name else \"\"\n",
    "print (f\"The firt letter of your name is: {first_letter}\")"
   ]
  },
  {
   "cell_type": "markdown",
   "id": "41b53356-c354-4a3d-b357-cdbb60c7204a",
   "metadata": {},
   "source": [
    "# Review Questions 5"
   ]
  },
  {
   "cell_type": "code",
   "execution_count": 26,
   "id": "2f83a181-351c-418c-a7f5-2de7fcd96eca",
   "metadata": {},
   "outputs": [
    {
     "name": "stdout",
     "output_type": "stream",
     "text": [
      "Result:  150\n"
     ]
    }
   ],
   "source": [
    "int_string = \"10\"\n",
    "int_num = int(int_string)\n",
    "result = int_num * 15\n",
    "print (\"Result: \", result)"
   ]
  },
  {
   "cell_type": "code",
   "execution_count": 28,
   "id": "fb34d0c4-5567-4bb8-bba9-70aa0bf2d92c",
   "metadata": {},
   "outputs": [
    {
     "name": "stdout",
     "output_type": "stream",
     "text": [
      "Result:  48.5\n"
     ]
    }
   ],
   "source": [
    "float_string = \"9.7\"\n",
    "float_num = float(float_string)\n",
    "result = float_num * 5\n",
    "print (\"Result: \", result)"
   ]
  },
  {
   "cell_type": "code",
   "execution_count": 36,
   "id": "3a14f792-d697-4233-854f-f46ec478b4e2",
   "metadata": {},
   "outputs": [
    {
     "name": "stdout",
     "output_type": "stream",
     "text": [
      "String: Number of encoders\n",
      "Integer: 50\n"
     ]
    }
   ],
   "source": [
    "string_object = \"Number of encoders\"\n",
    "int_object = 50\n",
    "print(\"String:\", str(string_object))\n",
    "print(\"Integer:\" , str(int_object))"
   ]
  },
  {
   "cell_type": "code",
   "execution_count": 41,
   "id": "c42eaad3-5e93-4a75-a09b-73952df0ea8a",
   "metadata": {},
   "outputs": [
    {
     "name": "stdin",
     "output_type": "stream",
     "text": [
      "Input first number:  20\n",
      "Input second number:  20\n"
     ]
    },
    {
     "name": "stdout",
     "output_type": "stream",
     "text": [
      "Result:  400\n"
     ]
    }
   ],
   "source": [
    "num1 = input(\"Input first number: \")\n",
    "num2 = input(\"Input second number: \")\n",
    "result = int(num1) * int(num2)\n",
    "print(\"Result: \", result)"
   ]
  },
  {
   "cell_type": "markdown",
   "id": "bf972df8-162d-43bc-97ad-c1320564b9d5",
   "metadata": {},
   "source": [
    "# Review Questions 6"
   ]
  },
  {
   "cell_type": "code",
   "execution_count": 44,
   "id": "95791592-aa60-4e78-a133-b51bc78b20c2",
   "metadata": {},
   "outputs": [
    {
     "data": {
      "text/plain": [
       "-1"
      ]
     },
     "execution_count": 44,
     "metadata": {},
     "output_type": "execute_result"
    }
   ],
   "source": [
    "phrase = \"AAA\"\n",
    "phrase.find(\"a\")"
   ]
  },
  {
   "cell_type": "code",
   "execution_count": 46,
   "id": "4391ee7b-0716-43c9-ab6d-de2cb047d935",
   "metadata": {},
   "outputs": [
    {
     "data": {
      "text/plain": [
       "'Somebody yaid yomething to Samantha'"
      ]
     },
     "execution_count": 46,
     "metadata": {},
     "output_type": "execute_result"
    }
   ],
   "source": [
    "phrase = \"Somebody said something to Samantha\"\n",
    "phrase.replace(\"s\", \"y\")"
   ]
  },
  {
   "cell_type": "code",
   "execution_count": 49,
   "id": "dd64b174-522d-487f-8b94-e59df8fb2c97",
   "metadata": {},
   "outputs": [
    {
     "name": "stdin",
     "output_type": "stream",
     "text": [
      "Input string:  yes\n",
      "Input letter to find: r\n"
     ]
    },
    {
     "name": "stdout",
     "output_type": "stream",
     "text": [
      "The result of .find() for 'r': -1\n"
     ]
    }
   ],
   "source": [
    "user_input = input(\"Input string: \")\n",
    "letter_to_find = input(\"Input letter to find:\")\n",
    "result = user_input.find(letter_to_find)\n",
    "print(f\"The result of .find() for '{letter_to_find}':\", result)"
   ]
  },
  {
   "cell_type": "markdown",
   "id": "8f2a238f-2080-4e5e-a0f8-253c621387ba",
   "metadata": {},
   "source": [
    "# Review Questions 7"
   ]
  },
  {
   "cell_type": "code",
   "execution_count": 51,
   "id": "4508dbee-1be7-44d8-aaaf-0f3e13962830",
   "metadata": {},
   "outputs": [
    {
     "name": "stdin",
     "output_type": "stream",
     "text": [
      "Input some text:  I love you my love\n"
     ]
    },
    {
     "name": "stdout",
     "output_type": "stream",
     "text": [
      "I 10v3 y0u my 10v3\n"
     ]
    }
   ],
   "source": [
    "user_input = input(\"Input some text: \")\n",
    "\n",
    "leetspeak = user_input.replace(\"a\", \"4\") \\\n",
    "                       .replace(\"b\", \"8\") \\\n",
    "                       .replace(\"e\", \"3\") \\\n",
    "                       .replace(\"l\", \"1\") \\\n",
    "                       .replace(\"o\", \"0\") \\\n",
    "                       .replace(\"s\", \"5\") \\\n",
    "                       .replace(\"t\", \"7\")\n",
    "\n",
    "print(leetspeak)\n"
   ]
  },
  {
   "cell_type": "code",
   "execution_count": null,
   "id": "3d87e825-d3c0-426d-9779-548bd1aa586c",
   "metadata": {},
   "outputs": [],
   "source": []
  }
 ],
 "metadata": {
  "kernelspec": {
   "display_name": "Python 3 (ipykernel)",
   "language": "python",
   "name": "python3"
  },
  "language_info": {
   "codemirror_mode": {
    "name": "ipython",
    "version": 3
   },
   "file_extension": ".py",
   "mimetype": "text/x-python",
   "name": "python",
   "nbconvert_exporter": "python",
   "pygments_lexer": "ipython3",
   "version": "3.13.5"
  }
 },
 "nbformat": 4,
 "nbformat_minor": 5
}
